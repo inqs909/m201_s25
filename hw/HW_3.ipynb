{
 "cells": [
  {
   "cell_type": "markdown",
   "metadata": {},
   "source": [
    "# Homework 3"
   ]
  },
  {
   "cell_type": "code",
   "execution_count": 1,
   "metadata": {},
   "outputs": [
    {
     "name": "stdout",
     "output_type": "stream",
     "text": [
      "Installing package into ‘/home/inqs/R/x86_64-redhat-linux-gnu-library/4.4’\n",
      "(as ‘lib’ is unspecified)\n"
     ]
    },
    {
     "name": "stderr",
     "output_type": "stream",
     "text": [
      "trying URL 'https://inqs909.r-universe.dev/src/contrib/csucistats_0.4.0.tar.gz'\n",
      "Content type 'application/gzip' length 3329519 bytes (3.2 MB)\n",
      "==================================================\n",
      "downloaded 3.2 MB\n",
      "\n",
      "* installing *source* package ‘csucistats’ ...\n",
      "** using staged installation\n",
      "** R\n",
      "** data\n",
      "*** moving datasets to lazyload DB\n",
      "** inst\n",
      "** byte-compile and prepare package for lazy loading\n",
      "** help\n",
      "*** installing help indices\n"
     ]
    },
    {
     "name": "stdout",
     "output_type": "stream",
     "text": [
      "  converting help for package ‘csucistats’\n"
     ]
    },
    {
     "name": "stderr",
     "output_type": "stream",
     "text": [
      "    finding HTML links ... done\n"
     ]
    },
    {
     "name": "stdout",
     "output_type": "stream",
     "text": [
      "    ar2                                     html  \n",
      "    b                                       html  \n",
      "    bottom                                  html  \n",
      "    cat_stats                               html  \n",
      "    csucistats-package                      html  \n",
      "    descriptive                             html  \n",
      "    f                                       html  \n",
      "    install_m201                            html  \n",
      "    install_plots                           html  \n",
      "    install_themes                          html  \n",
      "    iterate                                 html  \n",
      "    middle                                  html  \n",
      "    num_by_cat_stats                        html  \n",
      "    num_stats                               html  \n",
      "    props                                   html  \n",
      "    r2                                      html  \n",
      "    resample                                html  \n",
      "    resid_df                                html  \n",
      "    shuffle                                 html  \n",
      "    sse                                     html  \n",
      "    top                                     html  \n",
      "    unicorn_data                            html  \n",
      "    unicorns                                html  \n"
     ]
    },
    {
     "name": "stderr",
     "output_type": "stream",
     "text": [
      "*** copying figures\n",
      "** building package indices\n",
      "** testing if installed package can be loaded from temporary location\n",
      "** testing if installed package can be loaded from final location\n",
      "** testing if installed package keeps a record of temporary installation path\n",
      "* DONE (csucistats)\n",
      "\n",
      "The downloaded source packages are in\n",
      "\t‘/tmp/RtmpYdW0Sg/downloaded_packages’\n"
     ]
    },
    {
     "name": "stdout",
     "output_type": "stream",
     "text": [
      "── \u001b[1mAttaching core tidyverse packages\u001b[22m ──────────────────────── tidyverse 2.0.0 ──\n",
      "\u001b[32m✔\u001b[39m \u001b[34mdplyr    \u001b[39m 1.1.4     \u001b[32m✔\u001b[39m \u001b[34mreadr    \u001b[39m 2.1.5\n",
      "\u001b[32m✔\u001b[39m \u001b[34mforcats  \u001b[39m 1.0.0     \u001b[32m✔\u001b[39m \u001b[34mstringr  \u001b[39m 1.5.1\n",
      "\u001b[32m✔\u001b[39m \u001b[34mggplot2  \u001b[39m 3.5.1     \u001b[32m✔\u001b[39m \u001b[34mtibble   \u001b[39m 3.2.1\n",
      "\u001b[32m✔\u001b[39m \u001b[34mlubridate\u001b[39m 1.9.4     \u001b[32m✔\u001b[39m \u001b[34mtidyr    \u001b[39m 1.3.1\n",
      "\u001b[32m✔\u001b[39m \u001b[34mpurrr    \u001b[39m 1.0.2     \n",
      "── \u001b[1mConflicts\u001b[22m ────────────────────────────────────────── tidyverse_conflicts() ──\n",
      "\u001b[31m✖\u001b[39m \u001b[34mdplyr\u001b[39m::\u001b[32mfilter()\u001b[39m masks \u001b[34mstats\u001b[39m::filter()\n",
      "\u001b[31m✖\u001b[39m \u001b[34mdplyr\u001b[39m::\u001b[32mlag()\u001b[39m    masks \u001b[34mstats\u001b[39m::lag()\n",
      "\u001b[36mℹ\u001b[39m Use the \u001b]8;;http://conflicted.r-lib.org/\u0007conflicted package\u001b]8;;\u0007 to force all conflicts to become errors\n"
     ]
    }
   ],
   "source": [
    "install.packages(c(\"csucistats\"),\n",
    "                 repos = c(\"https://inqs909.r-universe.dev\", \"https://cloud.r-project.org\"))\n",
    "\n",
    "library(csucistats)\n",
    "library(tidyverse)\n",
    "\n",
    "\n",
    "# Uncomment (remove #) and run for themes:\n",
    "# csucistats::install_themes()\n",
    "# library(ThemePark)\n",
    "# library(ggthemes)"
   ]
  },
  {
   "cell_type": "markdown",
   "metadata": {},
   "source": [
    "## Problem 1\n",
    "\n",
    "A [Unicorn](https://en.wikipedia.org/wiki/Unicorn) is a mythical creature that has been depicted  \n",
    "\n"
   ]
  },
  {
   "cell_type": "markdown",
   "metadata": {},
   "source": [
    "## Problem 2"
   ]
  },
  {
   "cell_type": "markdown",
   "metadata": {},
   "source": [
    "## Problem 3"
   ]
  }
 ],
 "metadata": {
  "language_info": {
   "name": "r"
  }
 },
 "nbformat": 4,
 "nbformat_minor": 2
}
