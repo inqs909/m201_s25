{
 "cells": [
  {
   "cell_type": "markdown",
   "metadata": {
    "id": "fc8N9WDMRl2y"
   },
   "source": [
    "# Homework 1"
   ]
  },
  {
   "cell_type": "markdown",
   "metadata": {
    "id": "lfCbS9fDRpaW"
   },
   "source": [
    "## Run Initial R Code"
   ]
  },
  {
   "cell_type": "code",
   "execution_count": 14,
   "metadata": {
    "colab": {
     "base_uri": "https://localhost:8080/"
    },
    "executionInfo": {
     "elapsed": 102975,
     "status": "ok",
     "timestamp": 1739223153913,
     "user": {
      "displayName": "Isaac Quintanilla-Salinas",
      "userId": "11102198638348214323"
     },
     "user_tz": 480
    },
    "id": "BS4mCLluRio4",
    "outputId": "22df52d8-0dd6-47fb-90c5-a4e0b248b6af",
    "vscode": {
     "languageId": "r"
    }
   },
   "outputs": [
    {
     "name": "stderr",
     "output_type": "stream",
     "text": [
      "Installing packages into ‘/usr/local/lib/R/site-library’\n",
      "(as ‘lib’ is unspecified)\n",
      "\n",
      "\u001b[1mRows: \u001b[22m\u001b[34m1187\u001b[39m \u001b[1mColumns: \u001b[22m\u001b[34m19\u001b[39m\n",
      "\u001b[36m──\u001b[39m \u001b[1mColumn specification\u001b[22m \u001b[36m────────────────────────────────────────────────────────\u001b[39m\n",
      "\u001b[1mDelimiter:\u001b[22m \",\"\n",
      "\u001b[31mchr\u001b[39m (17): cheese, url, milk, country, region, family, type, fat_content, cal...\n",
      "\u001b[33mlgl\u001b[39m  (2): vegetarian, vegan\n",
      "\n",
      "\u001b[36mℹ\u001b[39m Use `spec()` to retrieve the full column specification for this data.\n",
      "\u001b[36mℹ\u001b[39m Specify the column types or set `show_col_types = FALSE` to quiet this message.\n",
      "Installing packages into ‘/usr/local/lib/R/site-library’\n",
      "(as ‘lib’ is unspecified)\n",
      "\n",
      "Installed the following packages:\n",
      " ggplot2\n",
      " waffle\n",
      " ggmosaic\n",
      " ggtricks \n",
      " ggtext\n",
      "\n",
      "Installing package into ‘/usr/local/lib/R/site-library’\n",
      "(as ‘lib’ is unspecified)\n",
      "\n",
      "Downloading GitHub repo MatthewBJane/ThemePark@HEAD\n",
      "\n"
     ]
    },
    {
     "name": "stdout",
     "output_type": "stream",
     "text": [
      "\u001b[36m──\u001b[39m \u001b[36mR CMD build\u001b[39m \u001b[36m─────────────────────────────────────────────────────────────────\u001b[39m\n",
      "* checking for file ‘/tmp/Rtmp72gTl7/remotes1db3a5ea4bc/MatthewBJane-ThemePark-30989da/DESCRIPTION’ ... OK\n",
      "* preparing ‘ThemePark’:\n",
      "* checking DESCRIPTION meta-information ... OK\n",
      "* checking for LF line-endings in source and make files and shell scripts\n",
      "* checking for empty or unneeded directories\n",
      "* building ‘ThemePark_0.0.1.tar.gz’\n",
      "\n"
     ]
    },
    {
     "name": "stderr",
     "output_type": "stream",
     "text": [
      "Installing package into ‘/usr/local/lib/R/site-library’\n",
      "(as ‘lib’ is unspecified)\n",
      "\n",
      "Installed the following themes:\n",
      " ggthemes \n",
      " ThemePark\n",
      "\n"
     ]
    }
   ],
   "source": [
    "# This code will load the R packages we will use\n",
    "install.packages(c(\"csucistats\", \"openintro\", \"palmerpenguins\"),\n",
    "                 repos = c(\"https://inqs909.r-universe.dev\", \"https://cloud.r-project.org\"))\n",
    "library(csucistats)\n",
    "library(tidyverse)\n",
    "library(openintro)\n",
    "library(palmerpenguins)\n",
    "penguins <- penguins |> drop_na()\n",
    "cheeses <- readr::read_csv('https://raw.githubusercontent.com/rfordatascience/tidytuesday/main/data/2024/2024-06-04/cheeses.csv')\n",
    "\n",
    "\n",
    "# Uncomment and run for categorical plots\n",
    "csucistats::install_plots()\n",
    "library(ggtricks)\n",
    "library(ggmosaic)\n",
    "library(waffle)\n",
    "\n",
    "# Uncomment and run for themes\n",
    "csucistats::install_themes()\n",
    "library(ThemePark)\n",
    "library(ggthemes)"
   ]
  },
  {
   "cell_type": "markdown",
   "metadata": {
    "id": "gLvcdboIWQFk"
   },
   "source": [
    "## Problem 1\n",
    "\n",
    "The `movies` data set contains information on movies released in 2003. We are interested in learning more about the variable `genre` which contains infomraiton of the movie's genre."
   ]
  },
  {
   "cell_type": "code",
   "execution_count": 15,
   "metadata": {
    "colab": {
     "base_uri": "https://localhost:8080/",
     "height": 286
    },
    "executionInfo": {
     "elapsed": 34,
     "status": "ok",
     "timestamp": 1739223453401,
     "user": {
      "displayName": "Isaac Quintanilla-Salinas",
      "userId": "11102198638348214323"
     },
     "user_tz": 480
    },
    "id": "DgDvU3t8y22t",
    "outputId": "f2a70187-4303-4057-e76b-5bf474259a08",
    "vscode": {
     "languageId": "r"
    }
   },
   "outputs": [
    {
     "data": {
      "text/html": [
       "<table class=\"dataframe\">\n",
       "<caption>A tibble: 6 × 5</caption>\n",
       "<thead>\n",
       "\t<tr><th scope=col>movie</th><th scope=col>genre</th><th scope=col>score</th><th scope=col>rating</th><th scope=col>box_office</th></tr>\n",
       "\t<tr><th scope=col>&lt;chr&gt;</th><th scope=col>&lt;chr&gt;</th><th scope=col>&lt;dbl&gt;</th><th scope=col>&lt;chr&gt;</th><th scope=col>&lt;dbl&gt;</th></tr>\n",
       "</thead>\n",
       "<tbody>\n",
       "\t<tr><td>2Fast2Furious </td><td>action    </td><td>48.9</td><td>PG-13</td><td>127.146</td></tr>\n",
       "\t<tr><td>28DaysLater   </td><td>horror    </td><td>78.2</td><td>R    </td><td> 45.065</td></tr>\n",
       "\t<tr><td>AGuyThing     </td><td>rom-comedy</td><td>39.5</td><td>PG-13</td><td> 15.545</td></tr>\n",
       "\t<tr><td>AManApart     </td><td>action    </td><td>42.9</td><td>R    </td><td> 26.248</td></tr>\n",
       "\t<tr><td>AMightyWind   </td><td>comedy    </td><td>79.9</td><td>PG-13</td><td> 17.781</td></tr>\n",
       "\t<tr><td>AgentCodyBanks</td><td>action    </td><td>57.9</td><td>PG   </td><td> 47.811</td></tr>\n",
       "</tbody>\n",
       "</table>\n"
      ],
      "text/latex": [
       "A tibble: 6 × 5\n",
       "\\begin{tabular}{lllll}\n",
       " movie & genre & score & rating & box\\_office\\\\\n",
       " <chr> & <chr> & <dbl> & <chr> & <dbl>\\\\\n",
       "\\hline\n",
       "\t 2Fast2Furious  & action     & 48.9 & PG-13 & 127.146\\\\\n",
       "\t 28DaysLater    & horror     & 78.2 & R     &  45.065\\\\\n",
       "\t AGuyThing      & rom-comedy & 39.5 & PG-13 &  15.545\\\\\n",
       "\t AManApart      & action     & 42.9 & R     &  26.248\\\\\n",
       "\t AMightyWind    & comedy     & 79.9 & PG-13 &  17.781\\\\\n",
       "\t AgentCodyBanks & action     & 57.9 & PG    &  47.811\\\\\n",
       "\\end{tabular}\n"
      ],
      "text/markdown": [
       "\n",
       "A tibble: 6 × 5\n",
       "\n",
       "| movie &lt;chr&gt; | genre &lt;chr&gt; | score &lt;dbl&gt; | rating &lt;chr&gt; | box_office &lt;dbl&gt; |\n",
       "|---|---|---|---|---|\n",
       "| 2Fast2Furious  | action     | 48.9 | PG-13 | 127.146 |\n",
       "| 28DaysLater    | horror     | 78.2 | R     |  45.065 |\n",
       "| AGuyThing      | rom-comedy | 39.5 | PG-13 |  15.545 |\n",
       "| AManApart      | action     | 42.9 | R     |  26.248 |\n",
       "| AMightyWind    | comedy     | 79.9 | PG-13 |  17.781 |\n",
       "| AgentCodyBanks | action     | 57.9 | PG    |  47.811 |\n",
       "\n"
      ],
      "text/plain": [
       "  movie          genre      score rating box_office\n",
       "1 2Fast2Furious  action     48.9  PG-13  127.146   \n",
       "2 28DaysLater    horror     78.2  R       45.065   \n",
       "3 AGuyThing      rom-comedy 39.5  PG-13   15.545   \n",
       "4 AManApart      action     42.9  R       26.248   \n",
       "5 AMightyWind    comedy     79.9  PG-13   17.781   \n",
       "6 AgentCodyBanks action     57.9  PG      47.811   "
      ]
     },
     "metadata": {},
     "output_type": "display_data"
    }
   ],
   "source": [
    "head(movies)"
   ]
  },
  {
   "cell_type": "code",
   "execution_count": 16,
   "metadata": {
    "colab": {
     "base_uri": "https://localhost:8080/"
    },
    "executionInfo": {
     "elapsed": 46,
     "status": "ok",
     "timestamp": 1739223510909,
     "user": {
      "displayName": "Isaac Quintanilla-Salinas",
      "userId": "11102198638348214323"
     },
     "user_tz": 480
    },
    "id": "Rhl7oRSSzJyh",
    "outputId": "1a5bb72c-0f21-421e-ef1a-9570434ffcf5",
    "vscode": {
     "languageId": "r"
    }
   },
   "outputs": [
    {
     "name": "stdout",
     "output_type": "stream",
     "text": [
      "Rows: 140\n",
      "Columns: 5\n",
      "$ movie      \u001b[3m\u001b[90m<chr>\u001b[39m\u001b[23m \"2Fast2Furious\", \"28DaysLater\", \"AGuyThing\", \"AManApart\", \"…\n",
      "$ genre      \u001b[3m\u001b[90m<chr>\u001b[39m\u001b[23m \"action\", \"horror\", \"rom-comedy\", \"action\", \"comedy\", \"acti…\n",
      "$ score      \u001b[3m\u001b[90m<dbl>\u001b[39m\u001b[23m 48.9, 78.2, 39.5, 42.9, 79.9, 57.9, 35.1, 50.7, 62.6, 63.3,…\n",
      "$ rating     \u001b[3m\u001b[90m<chr>\u001b[39m\u001b[23m \"PG-13\", \"R\", \"PG-13\", \"R\", \"PG-13\", \"PG\", \"PG-13\", \"R\", \"P…\n",
      "$ box_office \u001b[3m\u001b[90m<dbl>\u001b[39m\u001b[23m 127.146, 45.065, 15.545, 26.248, 17.781, 47.811, 14.219, 10…\n"
     ]
    }
   ],
   "source": [
    "glimpse(movies)"
   ]
  },
  {
   "cell_type": "markdown",
   "metadata": {
    "id": "5iUr_yc5XLNL"
   },
   "source": [
    "### Part A\n",
    "\n",
    "Create a bar plot of the variable `genre`."
   ]
  },
  {
   "cell_type": "code",
   "execution_count": 17,
   "metadata": {
    "colab": {
     "base_uri": "https://localhost:8080/",
     "height": 437
    },
    "executionInfo": {
     "elapsed": 351,
     "status": "ok",
     "timestamp": 1739224191539,
     "user": {
      "displayName": "Isaac Quintanilla-Salinas",
      "userId": "11102198638348214323"
     },
     "user_tz": 480
    },
    "id": "aKFnSM_y1mfH",
    "outputId": "e427921d-0331-4f2d-f88b-1a753cd7ac5f",
    "vscode": {
     "languageId": "r"
    }
   },
   "outputs": [
    {
     "data": {
      "image/png": "[encoded data removed]",
      "text/plain": [
       "plot without title"
      ]
     },
     "metadata": {
      "image/png": {
       "height": 420,
       "width": 420
      }
     },
     "output_type": "display_data"
    }
   ],
   "source": [
    "ggplot(data = movies, aes(x = genre)) +\n",
    "  geom_bar()"
   ]
  },
  {
   "cell_type": "markdown",
   "metadata": {
    "id": "zVArswhSXSR6"
   },
   "source": [
    "### Part B\n",
    "\n",
    "Find the summary statistics of `genre`."
   ]
  },
  {
   "cell_type": "code",
   "execution_count": 18,
   "metadata": {
    "colab": {
     "base_uri": "https://localhost:8080/"
    },
    "executionInfo": {
     "elapsed": 26,
     "status": "ok",
     "timestamp": 1739224515367,
     "user": {
      "displayName": "Isaac Quintanilla-Salinas",
      "userId": "11102198638348214323"
     },
     "user_tz": 480
    },
    "id": "QL9Cd-uw282K",
    "outputId": "0e4e8e75-f979-4972-c037-64474dd2d439",
    "vscode": {
     "languageId": "r"
    }
   },
   "outputs": [
    {
     "name": "stderr",
     "output_type": "stream",
     "text": [
      "Continguency Table \n",
      " \n",
      "             n   prop\n",
      "action      30 0.2143\n",
      "adventure    2 0.0143\n",
      "animated     6 0.0429\n",
      "comedy      39 0.2786\n",
      "documentary  3 0.0214\n",
      "drama       17 0.1214\n",
      "fantasy      3 0.0214\n",
      "horror      11 0.0786\n",
      "musical      1 0.0071\n",
      "rom-comedy  13 0.0929\n",
      "sci-fi       3 0.0214\n",
      "suspense    10 0.0714\n",
      "western      2 0.0143\n",
      "\n",
      "Number of Missing: 0\n",
      "Proportion of Missing: 0\n",
      "Row Variable: movies$genre\n",
      "\n"
     ]
    }
   ],
   "source": [
    "cat_stats(movies$genre)"
   ]
  },
  {
   "cell_type": "markdown",
   "metadata": {
    "id": "rzqhdnCXXbwz"
   },
   "source": [
    "### Part C\n",
    "\n",
    "Describe the distribution of the variable `genre`. What was the most common, least common, and anything peculiar?"
   ]
  },
  {
   "cell_type": "markdown",
   "metadata": {
    "id": "sBLAjpng4L6w"
   },
   "source": [
    "## Problem 2\n",
    "\n",
    "The `penguins` data set contains information on penguins collected in Antartica. We are interested in learning more about the variables `species` and `island`."
   ]
  },
  {
   "cell_type": "code",
   "execution_count": 19,
   "metadata": {
    "colab": {
     "base_uri": "https://localhost:8080/",
     "height": 286
    },
    "executionInfo": {
     "elapsed": 43,
     "status": "ok",
     "timestamp": 1739224837314,
     "user": {
      "displayName": "Isaac Quintanilla-Salinas",
      "userId": "11102198638348214323"
     },
     "user_tz": 480
    },
    "id": "sVh-38YL4Nb6",
    "outputId": "808e45ad-68cb-4f54-8ba3-1d56fffd5023",
    "vscode": {
     "languageId": "r"
    }
   },
   "outputs": [
    {
     "data": {
      "text/html": [
       "<table class=\"dataframe\">\n",
       "<caption>A tibble: 6 × 8</caption>\n",
       "<thead>\n",
       "\t<tr><th scope=col>species</th><th scope=col>island</th><th scope=col>bill_length_mm</th><th scope=col>bill_depth_mm</th><th scope=col>flipper_length_mm</th><th scope=col>body_mass_g</th><th scope=col>sex</th><th scope=col>year</th></tr>\n",
       "\t<tr><th scope=col>&lt;fct&gt;</th><th scope=col>&lt;fct&gt;</th><th scope=col>&lt;dbl&gt;</th><th scope=col>&lt;dbl&gt;</th><th scope=col>&lt;int&gt;</th><th scope=col>&lt;int&gt;</th><th scope=col>&lt;fct&gt;</th><th scope=col>&lt;int&gt;</th></tr>\n",
       "</thead>\n",
       "<tbody>\n",
       "\t<tr><td>Adelie</td><td>Torgersen</td><td>39.1</td><td>18.7</td><td>181</td><td>3750</td><td>male  </td><td>2007</td></tr>\n",
       "\t<tr><td>Adelie</td><td>Torgersen</td><td>39.5</td><td>17.4</td><td>186</td><td>3800</td><td>female</td><td>2007</td></tr>\n",
       "\t<tr><td>Adelie</td><td>Torgersen</td><td>40.3</td><td>18.0</td><td>195</td><td>3250</td><td>female</td><td>2007</td></tr>\n",
       "\t<tr><td>Adelie</td><td>Torgersen</td><td>36.7</td><td>19.3</td><td>193</td><td>3450</td><td>female</td><td>2007</td></tr>\n",
       "\t<tr><td>Adelie</td><td>Torgersen</td><td>39.3</td><td>20.6</td><td>190</td><td>3650</td><td>male  </td><td>2007</td></tr>\n",
       "\t<tr><td>Adelie</td><td>Torgersen</td><td>38.9</td><td>17.8</td><td>181</td><td>3625</td><td>female</td><td>2007</td></tr>\n",
       "</tbody>\n",
       "</table>\n"
      ],
      "text/latex": [
       "A tibble: 6 × 8\n",
       "\\begin{tabular}{llllllll}\n",
       " species & island & bill\\_length\\_mm & bill\\_depth\\_mm & flipper\\_length\\_mm & body\\_mass\\_g & sex & year\\\\\n",
       " <fct> & <fct> & <dbl> & <dbl> & <int> & <int> & <fct> & <int>\\\\\n",
       "\\hline\n",
       "\t Adelie & Torgersen & 39.1 & 18.7 & 181 & 3750 & male   & 2007\\\\\n",
       "\t Adelie & Torgersen & 39.5 & 17.4 & 186 & 3800 & female & 2007\\\\\n",
       "\t Adelie & Torgersen & 40.3 & 18.0 & 195 & 3250 & female & 2007\\\\\n",
       "\t Adelie & Torgersen & 36.7 & 19.3 & 193 & 3450 & female & 2007\\\\\n",
       "\t Adelie & Torgersen & 39.3 & 20.6 & 190 & 3650 & male   & 2007\\\\\n",
       "\t Adelie & Torgersen & 38.9 & 17.8 & 181 & 3625 & female & 2007\\\\\n",
       "\\end{tabular}\n"
      ],
      "text/markdown": [
       "\n",
       "A tibble: 6 × 8\n",
       "\n",
       "| species &lt;fct&gt; | island &lt;fct&gt; | bill_length_mm &lt;dbl&gt; | bill_depth_mm &lt;dbl&gt; | flipper_length_mm &lt;int&gt; | body_mass_g &lt;int&gt; | sex &lt;fct&gt; | year &lt;int&gt; |\n",
       "|---|---|---|---|---|---|---|---|\n",
       "| Adelie | Torgersen | 39.1 | 18.7 | 181 | 3750 | male   | 2007 |\n",
       "| Adelie | Torgersen | 39.5 | 17.4 | 186 | 3800 | female | 2007 |\n",
       "| Adelie | Torgersen | 40.3 | 18.0 | 195 | 3250 | female | 2007 |\n",
       "| Adelie | Torgersen | 36.7 | 19.3 | 193 | 3450 | female | 2007 |\n",
       "| Adelie | Torgersen | 39.3 | 20.6 | 190 | 3650 | male   | 2007 |\n",
       "| Adelie | Torgersen | 38.9 | 17.8 | 181 | 3625 | female | 2007 |\n",
       "\n"
      ],
      "text/plain": [
       "  species island    bill_length_mm bill_depth_mm flipper_length_mm body_mass_g\n",
       "1 Adelie  Torgersen 39.1           18.7          181               3750       \n",
       "2 Adelie  Torgersen 39.5           17.4          186               3800       \n",
       "3 Adelie  Torgersen 40.3           18.0          195               3250       \n",
       "4 Adelie  Torgersen 36.7           19.3          193               3450       \n",
       "5 Adelie  Torgersen 39.3           20.6          190               3650       \n",
       "6 Adelie  Torgersen 38.9           17.8          181               3625       \n",
       "  sex    year\n",
       "1 male   2007\n",
       "2 female 2007\n",
       "3 female 2007\n",
       "4 female 2007\n",
       "5 male   2007\n",
       "6 female 2007"
      ]
     },
     "metadata": {},
     "output_type": "display_data"
    }
   ],
   "source": [
    "head(penguins)"
   ]
  },
  {
   "cell_type": "code",
   "execution_count": 20,
   "metadata": {
    "colab": {
     "base_uri": "https://localhost:8080/"
    },
    "executionInfo": {
     "elapsed": 48,
     "status": "ok",
     "timestamp": 1739224869607,
     "user": {
      "displayName": "Isaac Quintanilla-Salinas",
      "userId": "11102198638348214323"
     },
     "user_tz": 480
    },
    "id": "J837oxMc4VWg",
    "outputId": "b0267cfb-6a44-4197-cc94-71a68c52a408",
    "vscode": {
     "languageId": "r"
    }
   },
   "outputs": [
    {
     "name": "stdout",
     "output_type": "stream",
     "text": [
      "Rows: 333\n",
      "Columns: 8\n",
      "$ species           \u001b[3m\u001b[90m<fct>\u001b[39m\u001b[23m Adelie, Adelie, Adelie, Adelie, Adelie, Adelie, Adel…\n",
      "$ island            \u001b[3m\u001b[90m<fct>\u001b[39m\u001b[23m Torgersen, Torgersen, Torgersen, Torgersen, Torgerse…\n",
      "$ bill_length_mm    \u001b[3m\u001b[90m<dbl>\u001b[39m\u001b[23m 39.1, 39.5, 40.3, 36.7, 39.3, 38.9, 39.2, 41.1, 38.6…\n",
      "$ bill_depth_mm     \u001b[3m\u001b[90m<dbl>\u001b[39m\u001b[23m 18.7, 17.4, 18.0, 19.3, 20.6, 17.8, 19.6, 17.6, 21.2…\n",
      "$ flipper_length_mm \u001b[3m\u001b[90m<int>\u001b[39m\u001b[23m 181, 186, 195, 193, 190, 181, 195, 182, 191, 198, 18…\n",
      "$ body_mass_g       \u001b[3m\u001b[90m<int>\u001b[39m\u001b[23m 3750, 3800, 3250, 3450, 3650, 3625, 4675, 3200, 3800…\n",
      "$ sex               \u001b[3m\u001b[90m<fct>\u001b[39m\u001b[23m male, female, female, female, male, female, male, fe…\n",
      "$ year              \u001b[3m\u001b[90m<int>\u001b[39m\u001b[23m 2007, 2007, 2007, 2007, 2007, 2007, 2007, 2007, 2007…\n"
     ]
    }
   ],
   "source": [
    "glimpse(penguins)"
   ]
  },
  {
   "cell_type": "markdown",
   "metadata": {
    "id": "H68BeUJt45Wo"
   },
   "source": [
    "### Part A\n",
    "\n",
    "Create a continguency table on the types of species in the data set. Comment on what you found."
   ]
  },
  {
   "cell_type": "markdown",
   "metadata": {
    "id": "ptl-r3oZ5Cq4"
   },
   "source": [
    "### Part B\n",
    "\n",
    "Create a continguency table on the island in the data set. Comment on what you found."
   ]
  },
  {
   "cell_type": "markdown",
   "metadata": {
    "id": "Fj6dYPGZ5Oon"
   },
   "source": [
    "### Part C\n",
    "\n",
    "Create a cross-tabulations table between the two variables. Do you see anything peculiar?"
   ]
  },
  {
   "cell_type": "code",
   "execution_count": 21,
   "metadata": {
    "colab": {
     "base_uri": "https://localhost:8080/"
    },
    "executionInfo": {
     "elapsed": 26,
     "status": "ok",
     "timestamp": 1739225390722,
     "user": {
      "displayName": "Isaac Quintanilla-Salinas",
      "userId": "11102198638348214323"
     },
     "user_tz": 480
    },
    "id": "V4fc1jaa51S1",
    "outputId": "6737c130-1767-4609-b925-17c2688d9b2c",
    "vscode": {
     "languageId": "r"
    }
   },
   "outputs": [
    {
     "name": "stderr",
     "output_type": "stream",
     "text": [
      "Continguency Table \n",
      " \n",
      "           Adelie                          Chinstrap                 \n",
      "Biscoe     \"44 / 0.1321 / 0.2699 / 0.3014\" \"0 / 0 / 0 / 0\"           \n",
      "Dream      \"55 / 0.1652 / 0.4472 / 0.3767\" \"68 / 0.2042 / 0.5528 / 1\"\n",
      "Torgersen  \"47 / 0.1411 / 1 / 0.3219\"      \"0 / 0 / 0 / 0\"           \n",
      "Col Totals \"146 / 0.4384\"                  \"68 / 0.2042\"             \n",
      "           Gentoo                      Row Totals    \n",
      "Biscoe     \"119 / 0.3574 / 0.7301 / 1\" \"163 / 0.4895\"\n",
      "Dream      \"0 / 0 / 0 / 0\"             \"123 / 0.3694\"\n",
      "Torgersen  \"0 / 0 / 0 / 0\"             \"47 / 0.1411\" \n",
      "Col Totals \"119 / 0.3574\"              \"Total: 333\"  \n",
      "\n",
      "Cell Contents: n / tbl % / row % / col % \n",
      "Col Totals Contents: n / row % \n",
      "Row Totals Contents: n / col % \n",
      "Column Variable: penguins$species\n",
      "Row Variable: penguins$island\n",
      "\n"
     ]
    }
   ],
   "source": [
    "cat_stats(penguins$island, penguins$species)"
   ]
  },
  {
   "cell_type": "markdown",
   "metadata": {
    "id": "BnlgwuPp5bU_"
   },
   "source": [
    "### Part D\n",
    "\n",
    "What is the proportion of Adelie penguins living in Torgerson?"
   ]
  },
  {
   "cell_type": "markdown",
   "metadata": {
    "id": "3Lpm6EJV5jkX"
   },
   "source": [
    "### Part E\n",
    "\n",
    "Given that a penguin is on Biscoe island, what is the proportion of penguins that are Gentoo?"
   ]
  },
  {
   "cell_type": "markdown",
   "metadata": {
    "id": "yscG01Xq5u5H"
   },
   "source": [
    "### Part F\n",
    "\n",
    "Given that a penguin Adelie, what is the proportion that it is in Biscoe island?"
   ]
  },
  {
   "cell_type": "markdown",
   "metadata": {
    "id": "7en4nQc5RDur"
   },
   "source": [
    "### Part G\n",
    "\n",
    "Visualize the variables `species` and `island`."
   ]
  },
  {
   "cell_type": "markdown",
   "metadata": {
    "id": "loPEAHKcRM6a"
   },
   "source": [
    "## Problem 3\n",
    "\n",
    "The `cheeses` data set contains nutritional information on different types of cheese."
   ]
  },
  {
   "cell_type": "markdown",
   "metadata": {
    "id": "6wsBbu1mVB19"
   },
   "source": [
    "### Part A\n",
    "\n",
    "Explore the data set and identify potential categorical variables. Which variables are you most interested in?"
   ]
  },
  {
   "cell_type": "markdown",
   "metadata": {
    "id": "6c8pJTLmVLQy"
   },
   "source": [
    "### Part B\n",
    "\n",
    "Of the variables you are interested in from part 1, describe the distribution of data with continguency tables. What do you notice?"
   ]
  },
  {
   "cell_type": "markdown",
   "metadata": {
    "id": "ZyailCT_Vewz"
   },
   "source": [
    "### Part C\n",
    "\n",
    "Create Cross-tabulation tables of any 2 variables that you think are related to each other. Describe anything you notice."
   ]
  },
  {
   "cell_type": "markdown",
   "metadata": {
    "id": "6XGvoOL1Vpvk"
   },
   "source": [
    "### Part D\n",
    "\n",
    "Visualize the analysis you conducted in parts B and C. Do you notice anything different from your original analysis?"
   ]
  }
 ],
 "metadata": {
  "colab": {
   "authorship_tag": "ABX9TyNJkTe4XdIcOTYYYd0rJolH",
   "provenance": []
  },
  "kernelspec": {
   "display_name": "R",
   "name": "ir"
  },
  "language_info": {
   "name": "R"
  }
 },
 "nbformat": 4,
 "nbformat_minor": 0
}
