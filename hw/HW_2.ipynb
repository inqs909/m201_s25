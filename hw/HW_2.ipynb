{
 "cells": [
  {
   "cell_type": "markdown",
   "metadata": {},
   "source": [
    "# Homework 2"
   ]
  },
  {
   "cell_type": "code",
   "execution_count": null,
   "metadata": {},
   "outputs": [],
   "source": [
    "install.packages(c(\"csucistats\", \"palmerpenguins\", \"taylor\"),\n",
    "                 repos = c(\"https://inqs909.r-universe.dev\", \"https://cloud.r-project.org\"))\n",
    "\n",
    "library(csucistats)\n",
    "library(tidyverse)\n",
    "library(palmerpenguins)\n",
    "library(taylor)\n",
    "\n",
    "penguins <- penguins |> drop_na()\n",
    "cake"
   ]
  },
  {
   "cell_type": "markdown",
   "metadata": {},
   "source": [
    "## Problem 1\n",
    "\n",
    "The `taylor_album_songs` data set contains information of several songs from Taylor Swift. "
   ]
  },
  {
   "cell_type": "markdown",
   "metadata": {},
   "source": [
    "### Part A\n",
    "\n",
    "The variable `danceability` determines how danceable a song is based on Spotify's algorithm. Find the basic numerical statistics for the variable `danceability`. What is the average danceability score? What is the standard deviation? "
   ]
  },
  {
   "cell_type": "code",
   "execution_count": 5,
   "metadata": {},
   "outputs": [
    {
     "data": {
      "text/plain": [
       "    min   q25  mean median   q75   max    sd   var   iqr missing\n",
       "1 0.292 0.509 0.579  0.592 0.655 0.897 0.115 0.013 0.146       3"
      ]
     },
     "execution_count": null,
     "metadata": {},
     "output_type": "execute_result"
    }
   ],
   "source": [
    "num_stats(taylor_album_songs$danceability)"
   ]
  },
  {
   "cell_type": "markdown",
   "metadata": {},
   "source": [
    "### Part B\n",
    "\n",
    "Generate a histogram or density plot for danceability score. Describe the distribution of danceability."
   ]
  },
  {
   "cell_type": "code",
   "execution_count": 7,
   "metadata": {},
   "outputs": [
    {
     "name": "stderr",
     "output_type": "stream",
     "text": [
      "Warning message:\n",
      "\u001b[1m\u001b[22mRemoved 3 rows containing non-finite outside the scale range (`stat_density()`). \n"
     ]
    },
    {
     "data": {
      "image/png": "[encoded data removed]"
     },
     "metadata": {},
     "output_type": "display_data"
    }
   ],
   "source": [
    "ggplot(taylor_album_songs, aes(danceability)) +\n",
    "  geom_density()"
   ]
  },
  {
   "cell_type": "markdown",
   "metadata": {},
   "source": [
    "### Part C\n",
    "\n",
    "What is the average danceability for Taylor Swift's album \"The Tortured Poets Department\"? What is the danceability standard deviation for Taylor Swift's album \"Midnights\"? Use the variable `album_name`."
   ]
  },
  {
   "cell_type": "code",
   "execution_count": 6,
   "metadata": {},
   "outputs": [
    {
     "data": {
      "text/plain": [
       "                      Categories   min   q25  mean median   q75   max    sd   var   iqr missing\n",
       "1       X1989..Taylor.s.Version. 0.387 0.576 0.627  0.623 0.689 0.800 0.103 0.011 0.113       1\n",
       "2                       evermore 0.316 0.512 0.527  0.546 0.581 0.689 0.092 0.008 0.069       0\n",
       "3    Fearless..Taylor.s.Version. 0.393 0.486 0.551  0.566 0.607 0.788 0.091 0.008 0.120       0\n",
       "4                       folklore 0.310 0.456 0.542  0.593 0.644 0.780 0.142 0.020 0.188       0\n",
       "5                          Lover 0.292 0.570 0.658  0.704 0.767 0.897 0.164 0.027 0.197       0\n",
       "6                      Midnights 0.336 0.596 0.629  0.657 0.679 0.872 0.112 0.012 0.084       2\n",
       "7         Red..Taylor.s.Version. 0.391 0.512 0.577  0.603 0.630 0.693 0.082 0.007 0.118       0\n",
       "8                     reputation 0.562 0.605 0.658  0.649 0.708 0.800 0.075 0.006 0.102       0\n",
       "9   Speak.Now..Taylor.s.Version. 0.379 0.517 0.556  0.538 0.623 0.734 0.094 0.009 0.106       0\n",
       "10                  Taylor.Swift 0.403 0.478 0.545  0.576 0.603 0.668 0.085 0.007 0.126       0\n",
       "11 THE.TORTURED.POETS.DEPARTMENT 0.330 0.440 0.532  0.521 0.607 0.784 0.120 0.014 0.167       0"
      ]
     },
     "execution_count": null,
     "metadata": {},
     "output_type": "execute_result"
    }
   ],
   "source": [
    "num_by_cat_stats(taylor_album_songs, danceability, album_name)"
   ]
  },
  {
   "cell_type": "markdown",
   "metadata": {},
   "source": [
    "### Part D\n",
    "\n",
    "Create a density plot for the varibale `danceability`, stratified by `album_name`."
   ]
  },
  {
   "cell_type": "markdown",
   "metadata": {},
   "source": [
    "## Problem 2\n",
    "\n",
    "The `penguins` data set contains information on penguins collected in Antartica. We are interested in learning more about the variables `flipper_length_mm`, `body_mass_g`, and `species`.\n"
   ]
  },
  {
   "cell_type": "markdown",
   "metadata": {},
   "source": [
    "### Part A\n",
    "\n",
    "Obtain the descriptive statistics for `flipper_length_mm`, `body_mass_g`, and `species`. Describe the distribution of each variable."
   ]
  },
  {
   "cell_type": "markdown",
   "metadata": {},
   "source": [
    "### Part B\n",
    "\n",
    "Create a density plot for `flipper_length_mm` and `body_mass_g`. Describe the distribution."
   ]
  },
  {
   "cell_type": "markdown",
   "metadata": {},
   "source": [
    "### Part C\n",
    "\n",
    "Create a scatter plot between `flipper_length_mm` and `body_mass_g`. Describe the relation ship between the 2 variables.|"
   ]
  },
  {
   "cell_type": "markdown",
   "metadata": {},
   "source": [
    "### Part D\n",
    "\n",
    "In Part C, what type of mathematical equation may best explains the relationship of the variables?"
   ]
  },
  {
   "cell_type": "markdown",
   "metadata": {},
   "source": [
    "## Problem 3\n",
    "\n",
    "The `anscombe` data set is a teaching data set published in 1973, to highlight the strenghts and weaknesses statistical visualization techniques.\n"
   ]
  },
  {
   "cell_type": "markdown",
   "metadata": {},
   "source": [
    "### Part A\n",
    "\n",
    "The variables `x1` and `y1` are two variables of interest. Summarize the data."
   ]
  },
  {
   "cell_type": "markdown",
   "metadata": {},
   "source": [
    "### Part B\n",
    "\n",
    "Create a scatter plot between `x1` and `y1`. Describe the relationship."
   ]
  },
  {
   "cell_type": "markdown",
   "metadata": {},
   "source": [
    "### Part C\n",
    "\n",
    "In Part B, what type of mathematical equation best explains the relationship between the variables?"
   ]
  },
  {
   "cell_type": "markdown",
   "metadata": {},
   "source": [
    "## Problem 4\n",
    "\n",
    "The `cake` data set contains information on the angle of breakage of cake, based on recipe and temperature."
   ]
  },
  {
   "cell_type": "markdown",
   "metadata": {},
   "source": [
    "### Part A\n",
    "\n",
    "Obtain descriptive statistics on the average breakage of angle with the varibale `angle`"
   ]
  },
  {
   "cell_type": "markdown",
   "metadata": {},
   "source": []
  }
 ],
 "metadata": {
  "language_info": {
   "name": "r"
  }
 },
 "nbformat": 4,
 "nbformat_minor": 2
}
