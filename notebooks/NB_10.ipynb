{
  "cells": [
    {
      "cell_type": "markdown",
      "metadata": {
        "cell_id": "35a56f6f4d484f829ac10ea4772ce745",
        "deepnote_cell_type": "markdown",
        "id": "wk4j3r7XLJ9n",
        "tags": []
      },
      "source": [
        "# Notebook 10 - Theories about Selfies\n",
        "*Modified from Coursekata*"
      ]
    },
    {
      "cell_type": "code",
      "execution_count": null,
      "metadata": {
        "cell_id": "50d745f7e422487cade04a1082a48792",
        "colab": {
          "base_uri": "https://localhost:8080/"
        },
        "deepnote_cell_type": "code",
        "deepnote_to_be_reexecuted": false,
        "execution_millis": 1375,
        "execution_start": 1669061503428,
        "id": "hcxqbY72LJ9o",
        "nbsimplegrader": {
          "config_key": "code.run-only",
          "editable": false,
          "label": "Code: Run-Only",
          "respondable": false,
          "response": null,
          "runnable": true,
          "type": "code"
        },
        "outputId": "10c5c9d7-5b9b-4a17-9578-7d468fce7ddc",
        "output_cleared": false,
        "source_hash": "e2af21b9",
        "trusted": true,
        "vscode": {
          "languageId": "r"
        }
      },
      "outputs": [],
      "source": [
        "# Load the CourseKata library\n",
        "# This code will load the R packages we will use\n",
        "install.packages(c(\"csucistats\"),\n",
        "                 repos = c(\"https://inqs909.r-universe.dev\", \"https://cloud.r-project.org\"))\n",
        "library(csucistats)\n",
        "library(tidyverse)"
      ]
    },
    {
      "cell_type": "markdown",
      "metadata": {
        "cell_id": "4b2fafb4a75b4685a4fa6ef051d0cb9b",
        "deepnote_cell_height": 109.96875,
        "deepnote_cell_type": "markdown",
        "id": "6a-ooTWSLJ9p",
        "tags": []
      },
      "source": [
        "## 1.0 - The Kind of Guy that Posts a Lot of Selfies..."
      ]
    },
    {
      "cell_type": "markdown",
      "metadata": {
        "cell_id": "c3f8e55d6281404089dc9a1142e5fba9",
        "deepnote_cell_height": 111.140625,
        "deepnote_cell_type": "markdown",
        "id": "EemnDvtGLJ9q",
        "tags": []
      },
      "source": [
        "If we told you about an adult male who posts a lot of selfies on social media what do you think he would be like? (Do you know one of these? What are they like?)\n",
        "\n",
        "Well, lucky for us, we have some data we can take a look at to maybe get some answers."
      ]
    },
    {
      "cell_type": "markdown",
      "metadata": {
        "cell_id": "3714a4266a3a4ab2bd4e6afd17f45e1e",
        "deepnote_cell_height": 52.359375,
        "deepnote_cell_type": "markdown",
        "id": "lheKf7o7LJ9r",
        "tags": []
      },
      "source": [
        "1.1 - Write some code to take a quick look at the `selfies` data frame."
      ]
    },
    {
      "cell_type": "markdown",
      "metadata": {
        "cell_id": "d05868a19c9e4ba8a15cd3b3b7430e8b",
        "deepnote_cell_height": 670.15625,
        "deepnote_cell_type": "markdown",
        "id": "x9Tkl0ekLJ9s",
        "tags": []
      },
      "source": [
        "This data in `selfies` is from an online survey of a nationally representative sample of U.S. men aged 18–40 (Fox & Rooney, 2015). Researchers were interested in visual self-presentation (e.g., posting “selfies” or editing pictures of themselves) as well as psychological measures such as the Dark Triad (i.e., narcissism, Machiavellianism, and psychopathy) and self-objectification (treating oneself like an object; judging themselves as objects with their worth based on outward attractiveness).\n",
        "\n",
        "- `subjectid` The male participant’s ID (there are no females included in this sample)\n",
        "- `selfobject` Trait self-objectification score. Scores can range from −25 to 25; higher scores indicate higher self-objectification\n",
        "- `narcissism` Score on four items from Narcissistic Personality Inventory; higher scores indicate higher narcissism\n",
        "- `machiavelli` Score on four items from the Mach IV scale; higher scores indicate higher tendencies toward manipulation\n",
        "- `psychotic` Score on four items from the Psychopathy Scale; higher scores indicate higher levels of subclinical psychopathy\n",
        "- `age` Age of the participant\n",
        "- `agerange` Whether the participant is < 25 years old, 25 - 30 years old, 31 - 35 years old, or over 35 years old\n",
        "- `timeonsocialmedia` Self-reported estimate of time spent each day on Facebook, Twitter, Instagram, Tumblr, and Pinterest in minutes, as a sum\n",
        "- `numselfies` Self-reported estimate of how many pictures taken of themselves and posted on the social networking sites in the past week\n",
        "- `numphotos` Self-reported estimate of how many pictures participants had posted in the past week that were not of themselves\n",
        "- `photoediting` Self-judgment of how often participants edit their photos before posting them (e.g. filters, cropping parts of themselves out), on a 5-point scale (1 = Never; 5 = Often)\n"
      ]
    },
    {
      "cell_type": "markdown",
      "metadata": {
        "cell_id": "bddae263e273476e97ff3b5ec6ac1d8a",
        "deepnote_cell_height": 74.75,
        "deepnote_cell_type": "markdown",
        "id": "rjzCK-eaLJ9t",
        "tags": []
      },
      "source": [
        "1.2 - **Get to know the data set:** What are the cases? Do you have questions about any of the variables?"
      ]
    },
    {
      "cell_type": "markdown",
      "metadata": {
        "cell_id": "c94f8f03ba094d498f6ab6fb6bcd8b10",
        "deepnote_cell_height": 74.75,
        "deepnote_cell_type": "markdown",
        "id": "wJWqFx-NLJ9t",
        "tags": []
      },
      "source": [
        "1.3 - What are some research questions or hypotheses you can explore with this data? Try to write as many questions or research hypotheses as you can. (at least 3)"
      ]
    },
    {
      "cell_type": "markdown",
      "metadata": {
        "cell_id": "dc7af6619a5c494d8b8688256e6d0642",
        "deepnote_cell_height": 69.96875,
        "deepnote_cell_type": "markdown",
        "id": "6zcgN3vALJ9u",
        "tags": []
      },
      "source": [
        "## 2.0 - Explore the Variation of `numselfies`"
      ]
    },
    {
      "cell_type": "markdown",
      "metadata": {
        "id": "DWNpDu8GMGgX"
      },
      "source": [
        "2.1 Write the code to visualize the variable `numselfies`."
      ]
    },
    {
      "cell_type": "markdown",
      "metadata": {
        "id": "6SlJG0QxMiAC"
      },
      "source": [
        "2.2 Write the code to obtain the descriptive statistics for `numselfies`."
      ]
    },
    {
      "cell_type": "markdown",
      "metadata": {
        "id": "dZavRrhoMx8T"
      },
      "source": [
        "2.3 Describe the distribution of `numselfies`."
      ]
    },
    {
      "cell_type": "markdown",
      "metadata": {
        "id": "vG94tg7mM5eJ"
      },
      "source": [
        "## 3.0 Narcissism and Number of Selfies\n",
        "\n",
        "You are conducting a study to see if there is an association between `narcissism` and `numselfies`."
      ]
    },
    {
      "cell_type": "markdown",
      "metadata": {
        "id": "KpOjysGWNHuU"
      },
      "source": [
        "3.1 Describe in words what you believe the relationship is between the variables `narcissism` and `numselfies`."
      ]
    },
    {
      "cell_type": "markdown",
      "metadata": {
        "id": "GKd5LiGJNaXq"
      },
      "source": [
        "3.2 Visualize the relationship between `narcissism` and `numselfies`."
      ]
    },
    {
      "cell_type": "markdown",
      "metadata": {
        "id": "BVgBIvglNhBk"
      },
      "source": [
        "3.3 Write the null and alternative hypothesis."
      ]
    },
    {
      "cell_type": "markdown",
      "metadata": {
        "id": "w9g-fA4YS6PD"
      },
      "source": [
        "3.4 Specify your significance level."
      ]
    },
    {
      "cell_type": "markdown",
      "metadata": {
        "id": "OvpUmax9N9dk"
      },
      "source": [
        "3.5 Compute the bootstrap-based confidence interval."
      ]
    },
    {
      "cell_type": "markdown",
      "metadata": {
        "id": "bhmFLHKFS-hw"
      },
      "source": [
        "3.6 Make a decision about your null hypothesis. Why did you make that decision?"
      ]
    },
    {
      "cell_type": "markdown",
      "metadata": {
        "id": "fZm6oLYzTH6H"
      },
      "source": [
        "3.7 Interpret the results."
      ]
    },
    {
      "cell_type": "markdown",
      "metadata": {
        "id": "n597MyAuTa9h"
      },
      "source": [
        "## 4.0 Age and the Number of Selfies\n"
      ]
    },
    {
      "cell_type": "markdown",
      "metadata": {
        "id": "UpZGgnY4TqC1"
      },
      "source": [
        "4.1 Describe in words what you believe the relationship is between the variables `age` and `numselfies`."
      ]
    },
    {
      "cell_type": "markdown",
      "metadata": {
        "id": "whHx-D_tTqC2"
      },
      "source": [
        "4.2 Visualize the relationship between `age` and `numselfies`."
      ]
    },
    {
      "cell_type": "markdown",
      "metadata": {
        "id": "uSJcTYxYTqC2"
      },
      "source": [
        "4.3 Write the null and alternative hypothesis."
      ]
    },
    {
      "cell_type": "markdown",
      "metadata": {
        "id": "m55GMnsWTqC3"
      },
      "source": [
        "4.4 Specify your significance level."
      ]
    },
    {
      "cell_type": "markdown",
      "metadata": {
        "id": "O_sLUWpdTqC3"
      },
      "source": [
        "4.5 Compute the bootstrap-based confidence interval."
      ]
    },
    {
      "cell_type": "markdown",
      "metadata": {
        "id": "PZEwvyR0TqC3"
      },
      "source": [
        "4.6 Make a decision about your null hypothesis. Why did you make that decision?"
      ]
    },
    {
      "cell_type": "markdown",
      "metadata": {
        "id": "gvk-dbDiTqC3"
      },
      "source": [
        "4.7 Interpret the results."
      ]
    },
    {
      "cell_type": "markdown",
      "metadata": {
        "id": "d_lXk_f1T54n"
      },
      "source": [
        "## 5.0 Your Study\n",
        "\n",
        "Conduct a hypothesis test on one of the research qeustions you responded in 1.3. Make sure to conduct all the steps to answer the question."
      ]
    }
  ],
  "metadata": {
    "celltoolbar": "nbsimplegrader",
    "colab": {
      "provenance": []
    },
    "deepnote": {},
    "deepnote_execution_queue": [],
    "deepnote_notebook_id": "483d09b13bde45f7893eedd8455ebb79",
    "kernelspec": {
      "display_name": "R",
      "name": "ir"
    },
    "language_info": {
      "codemirror_mode": "r",
      "file_extension": ".r",
      "mimetype": "text/x-r-source",
      "name": "R",
      "pygments_lexer": "r",
      "version": "4.2.2"
    },
    "nbsimplegrader": {
      "publish_config": {
        "classes": [],
        "options": {},
        "tools": []
      }
    }
  },
  "nbformat": 4,
  "nbformat_minor": 0
}
