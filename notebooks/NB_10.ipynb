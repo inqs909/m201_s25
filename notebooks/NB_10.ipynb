{
 "cells": [
  {
   "cell_type": "markdown",
   "id": "9rajaR2ROLEg",
   "metadata": {
    "id": "9rajaR2ROLEg"
   },
   "source": [
    "# NB 9: - Grading the professor, Pt. 3\n",
    "\n",
    "*Modified from Data Science in a box*"
   ]
  },
  {
   "cell_type": "code",
   "execution_count": 5,
   "id": "027d8a16",
   "metadata": {
    "colab": {
     "base_uri": "https://localhost:8080/"
    },
    "executionInfo": {
     "elapsed": 54508,
     "status": "ok",
     "timestamp": 1733793572841,
     "user": {
      "displayName": "Isaac Quintanilla-Salinas",
      "userId": "11102198638348214323"
     },
     "user_tz": 480
    },
    "id": "027d8a16",
    "outputId": "fef0980b-9e75-4986-a15f-0eb819eb0880",
    "tags": [
     "remove_cell"
    ]
   },
   "outputs": [
    {
     "name": "stdout",
     "output_type": "stream",
     "text": [
      "Installing packages into ‘/home/inqs/R/x86_64-redhat-linux-gnu-library/4.4’\n",
      "(as ‘lib’ is unspecified)\n"
     ]
    },
    {
     "name": "stderr",
     "output_type": "stream",
     "text": [
      "trying URL 'https://inqs909.r-universe.dev/src/contrib/csucistats_0.4.3.tar.gz'\n",
      "Content type 'application/gzip' length 2183582 bytes (2.1 MB)\n",
      "==================================================\n",
      "downloaded 2.1 MB\n",
      "\n",
      "trying URL 'https://cloud.r-project.org/src/contrib/openintro_2.5.0.tar.gz'\n",
      "Content type 'application/x-gzip' length 5381706 bytes (5.1 MB)\n",
      "==================================================\n",
      "downloaded 5.1 MB\n",
      "\n",
      "* installing *source* package ‘csucistats’ ...\n",
      "** using staged installation\n",
      "** R\n",
      "** data\n",
      "*** moving datasets to lazyload DB\n",
      "** inst\n",
      "** byte-compile and prepare package for lazy loading\n",
      "** help\n",
      "*** installing help indices\n"
     ]
    },
    {
     "name": "stdout",
     "output_type": "stream",
     "text": [
      "  converting help for package ‘csucistats’\n"
     ]
    },
    {
     "name": "stderr",
     "output_type": "stream",
     "text": [
      "    finding HTML links ... done\n"
     ]
    },
    {
     "name": "stdout",
     "output_type": "stream",
     "text": [
      "    ar2                                     html  \n",
      "    b                                       html  \n",
      "    bottom                                  html  \n",
      "    cat_stats                               html  \n",
      "    csucistats-package                      html  \n",
      "    descriptive                             html  \n",
      "    f                                       html  \n",
      "    install_m201                            html  \n",
      "    install_plots                           html  \n",
      "    install_themes                          html  \n",
      "    iterate                                 html  \n",
      "    middle                                  html  \n",
      "    num_by_cat_stats                        html  \n",
      "    num_stats                               html  \n",
      "    props                                   html  \n",
      "    r2                                      html  \n",
      "    resample                                html  \n",
      "    resid_df                                html  \n",
      "    se_b                                    html  \n",
      "    shuffle                                 html  \n",
      "    sse                                     html  \n",
      "    top                                     html  \n",
      "    unicorn_data                            html  \n",
      "    unicorns                                html  \n"
     ]
    },
    {
     "name": "stderr",
     "output_type": "stream",
     "text": [
      "*** copying figures\n",
      "** building package indices\n",
      "** testing if installed package can be loaded from temporary location\n",
      "** testing if installed package can be loaded from final location\n",
      "** testing if installed package keeps a record of temporary installation path\n",
      "* DONE (csucistats)\n",
      "* installing *source* package ‘openintro’ ...\n",
      "** package ‘openintro’ successfully unpacked and MD5 sums checked\n",
      "** using staged installation\n",
      "** R\n",
      "** data\n",
      "*** moving datasets to lazyload DB\n",
      "** inst\n",
      "** byte-compile and prepare package for lazy loading\n",
      "** help\n",
      "*** installing help indices\n"
     ]
    },
    {
     "name": "stdout",
     "output_type": "stream",
     "text": [
      "  converting help for package ‘openintro’\n"
     ]
    },
    {
     "name": "stderr",
     "output_type": "stream",
     "text": [
      "    finding HTML links ... done\n"
     ]
    },
    {
     "name": "stdout",
     "output_type": "stream",
     "text": [
      "    ArrowLines                              html  \n",
      "    AxisInDollars                           html  \n",
      "    AxisInPercent                           html  \n",
      "    BG                                      html  \n",
      "    Braces                                  html  \n",
      "    CCP                                     html  \n",
      "    COL                                     html  \n",
      "    CT2DF                                   html  \n",
      "    ChiSquareTail                           html  \n",
      "    IMSCOL                                  html  \n",
      "    LAhomes                                 html  \n",
      "    MosaicPlot                              html  \n",
      "    PlotWLine                               html  \n",
      "    absenteeism                             html  \n",
      "    acs12                                   html  \n",
      "    age_at_mar                              html  \n",
      "    ames                                    html  \n",
      "    ami_occurrences                         html  \n",
      "    antibiotics                             html  \n",
      "    arbuthnot                               html  \n",
      "    ask                                     html  \n",
      "    association                             html  \n",
      "    assortive_mating                        html  \n",
      "    avandia                                 html  \n",
      "    babies                                  html  \n",
      "    babies_crawl                            html  \n",
      "    bac                                     html  \n",
      "    ball_bearing                            html  \n",
      "    bdims                                   html  \n",
      "    biontech_adolescents                    html  \n",
      "    birds                                   html  \n",
      "    births                                  html  \n",
      "    births14                                html  \n",
      "    blizzard_salary                         html  \n",
      "    books                                   html  \n",
      "    boxPlot                                 html  \n",
      "    buildAxis                               html  \n",
      "    burger                                  html  \n",
      "    calc_streak                             html  \n",
      "    cancer_in_dogs                          html  \n",
      "    cards                                   html  \n",
      "    cars04                                  html  \n",
      "    cars93                                  html  \n",
      "    cchousing                               html  \n",
      "    census                                  html  \n",
      "    cherry                                  html  \n",
      "    children_gender_stereo                  html  \n",
      "    china                                   html  \n",
      "    cia_factbook                            html  \n",
      "    classdata                               html  \n",
      "    cle_sac                                 html  \n",
      "    climate70                               html  \n",
      "    climber_drugs                           html  \n",
      "    coast_starlight                         html  \n",
      "    comics                                  html  \n",
      "    contTable                               html  \n",
      "    corr_match                              html  \n",
      "    country_iso                             html  \n",
      "    cpr                                     html  \n",
      "    cpu                                     html  \n",
      "    credits                                 html  \n",
      "    daycare_fines                           html  \n",
      "    densityPlot                             html  \n",
      "    diabetes2                               html  \n",
      "    dlsegments                              html  \n",
      "    dotPlot                                 html  \n",
      "    dotPlotStack                            html  \n",
      "    dream                                   html  \n",
      "    drone_blades                            html  \n",
      "    drug_use                                html  \n",
      "    duke_forest                             html  \n",
      "    earthquakes                             html  \n",
      "    ebola_survey                            html  \n",
      "    edaPlot                                 html  \n",
      "    elmhurst                                html  \n",
      "    email                                   html  \n",
      "    email50                                 html  \n",
      "    env_regulation                          html  \n",
      "    epa2012                                 html  \n",
      "    epa2021                                 html  \n",
      "    esi                                     html  \n",
      "    ethanol                                 html  \n",
      "    evals                                   html  \n",
      "    exam_grades                             html  \n",
      "    exams                                   html  \n",
      "    exclusive_relationship                  html  \n",
      "    fact_opinion                            html  \n",
      "    fadeColor                               html  \n",
      "    family_college                          html  \n",
      "    fastfood                                html  \n",
      "    fcid                                    html  \n",
      "    fheights                                html  \n",
      "    fish_age                                html  \n",
      "    fish_oil_18                             html  \n",
      "    flow_rates                              html  \n",
      "    friday                                  html  \n",
      "    full_body_scan                          html  \n",
      "    gdp_countries                           html  \n",
      "    gear_company                            html  \n",
      "    gender_discrimination                   html  \n",
      "    get_it_dunn_run                         html  \n",
      "    gifted                                  html  \n",
      "    global_warming_pew                      html  \n",
      "    goog                                    html  \n",
      "    gov_poll                                html  \n",
      "    gpa                                     html  \n",
      "    gpa_iq                                  html  \n",
      "    gpa_study_hours                         html  \n",
      "    gradestv                                html  \n",
      "    gsearch                                 html  \n",
      "    gss2010                                 html  \n",
      "    gss_wordsum_class                       html  \n",
      "    health_coverage                         html  \n",
      "    healthcare_law_survey                   html  \n",
      "    heart_transplant                        html  \n",
      "    helium                                  html  \n",
      "    helmet                                  html  \n",
      "    hfi                                     html  \n",
      "    histPlot                                html  \n",
      "    house                                   html  \n",
      "    housing                                 html  \n",
      "    hsb2                                    html  \n",
      "    husbands_wives                          html  \n",
      "    immigration                             html  \n",
      "    infmortrate                             html  \n",
      "    iowa                                    html  \n",
      "    ipo                                     html  \n",
      "    ipod                                    html  \n",
      "    iran                                    html  \n",
      "    jury                                    html  \n",
      "    kobe_basket                             html  \n",
      "    lab_report                              html  \n",
      "    labor_market_discriminiation            html  \n",
      "    law_resume                              html  \n",
      "    lecture_learning                        html  \n",
      "    leg_mari                                html  \n",
      "    lego_population                         html  \n",
      "    lego_sample                             html  \n",
      "    life_exp                                html  \n",
      "    linResPlot                              html  \n",
      "    lizard_habitat                          html  \n",
      "    lizard_run                              html  \n",
      "    lmPlot                                  html  \n",
      "    loans_full_schema                       html  \n",
      "    london_boroughs                         html  \n",
      "    london_murders                          html  \n",
      "    loop                                    html  \n",
      "    lsegments                               html  \n",
      "    mail_me                                 html  \n",
      "    major_survey                            html  \n",
      "    makeTube                                html  \n",
      "    malaria                                 html  \n",
      "    male_heights                            html  \n",
      "    male_heights_fcid                       html  \n",
      "    mammals                                 html  \n",
      "    mammogram                               html  \n",
      "    manhattan                               html  \n",
      "    marathon                                html  \n",
      "    mariokart                               html  \n",
      "    mcu_films                               html  \n",
      "    midterms_house                          html  \n",
      "    migraine                                html  \n",
      "    military                                html  \n",
      "    mlb                                     html  \n",
      "    mlb_players_18                          html  \n",
      "    mlb_teams                               html  \n",
      "    mlbbat10                                html  \n",
      "    mn_police_use_of_force                  html  \n",
      "    movies                                  html  \n",
      "    mtl                                     html  \n",
      "    murders                                 html  \n",
      "    myPDF                                   html  \n",
      "    nba_finals                              html  \n",
      "    nba_finals_teams                        html  \n",
      "    nba_heights                             html  \n",
      "    nba_players_19                          html  \n",
      "    ncbirths                                html  \n",
      "    normTail                                html  \n",
      "    nuclear_survey                          html  \n",
      "    nyc                                     html  \n",
      "    nyc_marathon                            html  \n",
      "    nycflights                              html  \n",
      "    offshore_drilling                       html  \n",
      "    openintro-package                       html  \n",
      "    openintro_colors                        html  \n",
      "    openintro_cols                          html  \n",
      "    openintro_pal                           html  \n",
      "    openintro_palettes                      html  \n",
      "    opportunity_cost                        html  \n",
      "    orings                                  html  \n",
      "    oscars                                  html  \n",
      "    outliers                                html  \n",
      "    paralympic_1500                         html  \n",
      "    penelope                                html  \n",
      "    penetrating_oil                         html  \n",
      "    penny_ages                              html  \n",
      "    pew_energy_2018                         html  \n",
      "    photo_classify                          html  \n",
      "    piracy                                  html  \n",
      "    playing_cards                           html  \n",
      "    pm25_2011_durham                        html  \n",
      "    pm25_2022_durham                        html  \n",
      "    poker                                   html  \n",
      "    possum                                  html  \n",
      "    ppp_201503                              html  \n",
      "    present                                 html  \n",
      "    president                               html  \n",
      "    prison                                  html  \n",
      "    prius_mpg                               html  \n",
      "    qqnormsim                               html  \n",
      "    race_justice                            html  \n",
      "    reddit_finance                          html  \n",
      "    res_demo_1                              html  \n",
      "    res_demo_2                              html  \n",
      "    resume                                  html  \n",
      "    rosling_responses                       html  \n",
      "    russian_influence_on_us_election_2016   html  \n",
      "    sa_gdp_elec                             html  \n",
      "    salinity                                html  \n",
      "    sat_improve                             html  \n",
      "    satgpa                                  html  \n",
      "    scale_color_openintro                   html  \n",
      "    scale_fill_openintro                    html  \n",
      "    scotus_healthcare                       html  \n",
      "    seattlepets                             html  \n",
      "    sex_discrimination                      html  \n",
      "    simpsons_paradox_covid                  html  \n",
      "    simulated_dist                          html  \n",
      "    simulated_normal                        html  \n",
      "    simulated_scatter                       html  \n",
      "    sinusitis                               html  \n",
      "    sleep_deprivation                       html  \n",
      "    smallpox                                html  \n",
      "    smoking                                 html  \n",
      "    snowfall                                html  \n",
      "    socialexp                               html  \n",
      "    soda                                    html  \n",
      "    solar                                   html  \n",
      "    sowc_child_mortality                    html  \n",
      "    sowc_demographics                       html  \n",
      "    sowc_maternal_newborn                   html  \n",
      "    sp500                                   html  \n",
      "    sp500_1950_2018                         html  \n",
      "    sp500_seq                               html  \n",
      "    speed_gender_height                     html  \n",
      "    ssd_speed                               html  \n",
      "    starbucks                               html  \n",
      "    stats_scores                            html  \n",
      "    stem_cell                               html  \n",
      "    stent30                                 html  \n",
      "    stocks_18                               html  \n",
      "    student_housing                         html  \n",
      "    student_sleep                           html  \n",
      "    sulphinpyrazone                         html  \n",
      "    supreme_court                           html  \n",
      "    teacher                                 html  \n",
      "    textbooks                               html  \n",
      "    thanksgiving_spend                      html  \n",
      "    tips                                    html  \n",
      "    toohey                                  html  \n",
      "    tourism                                 html  \n",
      "    toy_anova                               html  \n",
      "    transplant                              html  \n",
      "    treeDiag                                html  \n",
      "    twins                                   html  \n",
      "    ucla_f18                                html  \n",
      "    ucla_textbooks_f18                      html  \n",
      "    ukdemo                                  html  \n",
      "    unempl                                  html  \n",
      "    unemploy_pres                           html  \n",
      "    us_temperature                          html  \n",
      "    usb_admit                               html  \n",
      "    winery_cars                             html  \n",
      "    world_pop                               html  \n",
      "    write_pkg_data                          html  \n",
      "    xom                                     html  \n",
      "    yawn                                    html  \n",
      "    yrbss                                   html  \n",
      "    yrbss_samp                              html  \n"
     ]
    },
    {
     "name": "stderr",
     "output_type": "stream",
     "text": [
      "*** copying figures\n",
      "** building package indices\n",
      "** installing vignettes\n",
      "** testing if installed package can be loaded from temporary location\n",
      "** testing if installed package can be loaded from final location\n",
      "** testing if installed package keeps a record of temporary installation path\n",
      "* DONE (openintro)\n",
      "\n",
      "The downloaded source packages are in\n",
      "\t‘/tmp/RtmpEGr0lm/downloaded_packages’\n"
     ]
    },
    {
     "name": "stdout",
     "output_type": "stream",
     "text": [
      "Loading required package: airports\n",
      "Loading required package: cherryblossom\n",
      "Loading required package: usdata\n",
      "\n",
      "Attaching package: ‘openintro’\n",
      "\n",
      "The following object is masked from ‘package:mosaic’:\n",
      "\n",
      "    dotPlot\n",
      "\n",
      "The following object is masked from ‘package:dslabs’:\n",
      "\n",
      "    murders\n",
      "\n",
      "The following objects are masked from ‘package:lattice’:\n",
      "\n",
      "    ethanol, lsegments\n",
      "\n"
     ]
    }
   ],
   "source": [
    "# This code will load the R packages we will use\n",
    "install.packages(c(\"csucistats\", \"openintro\"),\n",
    "                 repos = c(\"https://inqs909.r-universe.dev\", \"https://cloud.r-project.org\"))\n",
    "library(csucistats)\n",
    "library(tidyverse)\n",
    "library(openintro)\n",
    "\n",
    "\n",
    "# Uncomment and run for categorical plots\n",
    "# csucistats::install_plots()\n",
    "# library(ggtricks)\n",
    "# library(ggmosaic)\n",
    "# library(waffle)\n",
    "\n",
    "# Uncomment and run for themes\n",
    "# csucistats::install_themes()\n",
    "# library(ThemePark)\n",
    "# library(ggthemes)\n"
   ]
  },
  {
   "cell_type": "markdown",
   "id": "jZL-RvAZPEvr",
   "metadata": {
    "id": "jZL-RvAZPEvr"
   },
   "source": [
    "## Introduction"
   ]
  },
  {
   "cell_type": "markdown",
   "id": "273363a1",
   "metadata": {
    "id": "273363a1"
   },
   "source": [
    "Many college courses conclude by giving students the opportunity to evaluate the course and the instructor anonymously.\n",
    "However, the use of these student evaluations as an indicator of course quality and teaching effectiveness is often criticized because these measures may reflect the influence of non-teaching related characteristics, such as the physical appearance of the instructor.\n",
    "The article titled, \"Beauty in the classroom: instructors' pulchritude and putative pedagogical productivity\" (Hamermesh and Parker, 2005) found that instructors who are viewed to be better looking receive higher instructional ratings.\n",
    "(Daniel S. Hamermesh, Amy Parker, Beauty in the classroom: instructors pulchritude and putative pedagogical productivity, Economics of Education Review, Volume 24, Issue 4, August 2005, Pages 369-376, ISSN 0272-7757, 10.1016/j.econedurev.2004.07.013. <http://www.sciencedirect.com/science/article/pii/S0272775704001165>.)\n",
    "\n",
    "\n",
    "\n"
   ]
  },
  {
   "cell_type": "markdown",
   "id": "wCoC-CRdPHie",
   "metadata": {
    "id": "wCoC-CRdPHie"
   },
   "source": [
    "## Data"
   ]
  },
  {
   "cell_type": "markdown",
   "id": "30de9ef8",
   "metadata": {
    "id": "30de9ef8"
   },
   "source": [
    "In this notebook you will analyze the data from this study in order to learn what goes into a positive professor evaluation.\n",
    "\n",
    "The data were gathered from end of semester student evaluations for a large sample of professors from the University of Texas at Austin.\n",
    "In addition, six students rated the professors' physical appearance.\n",
    "(This is a slightly modified version of the original data set that was released as part of the replication data for Data Analysis Using Regression and Multilevel/Hierarchical Models (Gelman and Hill, 2007).) The result is a data frame where each row contains a different course and columns represent variables about the courses and professors.\n",
    "\n",
    "The data can be found in the **openintro** package, and it's called `evals`.\n",
    "Since the dataset is distributed with the package, we don't need to load it separately; it becomes available to us when we load the package.\n",
    "You can find out more about the dataset by inspecting its documentation, which you can access by running `?evals` in the Console or using the Help menu in RStudio to search for `evals`.\n",
    "You can also find this information [here](https://www.openintro.org/data/index.php?data=evals).\n",
    "\n"
   ]
  },
  {
   "cell_type": "markdown",
   "id": "759b421b",
   "metadata": {
    "id": "759b421b"
   },
   "source": [
    "\n",
    "## 1.0 - Linear regression with a numerical predictor"
   ]
  },
  {
   "cell_type": "markdown",
   "id": "YAdxQ0fRTyTM",
   "metadata": {
    "id": "YAdxQ0fRTyTM"
   },
   "source": [
    "1.1 - Fit a linear model predict average professor evaluation `score` (outcome) by average beauty rating (`bty_avg`).\n",
    "    Based on the regression output, write the linear model.\n",
    "\n"
   ]
  },
  {
   "cell_type": "markdown",
   "id": "lbOIs4a3UQHS",
   "metadata": {
    "id": "lbOIs4a3UQHS"
   },
   "source": [
    "1.2 - Interpret the slope of the linear model in context of the data.\n",
    "\n"
   ]
  },
  {
   "cell_type": "markdown",
   "id": "1v_crN77bchY",
   "metadata": {
    "id": "1v_crN77bchY"
   },
   "source": [
    "1.3 - Write the null and alternative hypothesis to determine if `bty_avg` and `score` are associated or random."
   ]
  },
  {
   "cell_type": "markdown",
   "id": "82f9387c",
   "metadata": {},
   "source": [
    "1.4 - What is the statistic of interest?"
   ]
  },
  {
   "cell_type": "markdown",
   "id": "9da12a3d",
   "metadata": {},
   "source": [
    "1.5 Use the p-value approach to test the null and alternative hypothesis."
   ]
  },
  {
   "cell_type": "markdown",
   "id": "3493972c",
   "metadata": {},
   "source": [
    "1.6 Interpret and draw conclusions from the results that you found."
   ]
  },
  {
   "cell_type": "markdown",
   "id": "9200ed96",
   "metadata": {
    "id": "9200ed96"
   },
   "source": [
    "\n",
    "## 2.0 Linear regression with a categorical predictor\n",
    "\n"
   ]
  },
  {
   "cell_type": "markdown",
   "id": "nDKwwTdEUi94",
   "metadata": {
    "id": "nDKwwTdEUi94"
   },
   "source": [
    "2.1 -  Fit a new linear model to predict average professor evaluation `score` (outcome) based on `gender` of the professor.\n",
    "    Based on the regression output, write the linear model.\n",
    "\n"
   ]
  },
  {
   "cell_type": "markdown",
   "id": "j713N0PFUsKR",
   "metadata": {
    "id": "j713N0PFUsKR"
   },
   "source": [
    "2.2 - Write the null and alternative hypothesis seeing th scores are different by gender.\n"
   ]
  },
  {
   "cell_type": "markdown",
   "id": "ozfICdJflnq3",
   "metadata": {
    "id": "ozfICdJflnq3"
   },
   "source": [
    "2.3 - What Statistic would you use to test the null hypothesis?"
   ]
  },
  {
   "cell_type": "markdown",
   "id": "81a9c73a",
   "metadata": {},
   "source": [
    "2.4 - Use the confidence interval approach to test the null and alternative hypothesis."
   ]
  },
  {
   "cell_type": "markdown",
   "id": "4e6b66a7",
   "metadata": {},
   "source": [
    "2.5 - Interpret and draw conclusions from the results that you found."
   ]
  },
  {
   "cell_type": "markdown",
   "id": "f1194cbe",
   "metadata": {},
   "source": [
    "## 3.0 Multiple Linear Regression"
   ]
  },
  {
   "cell_type": "markdown",
   "id": "ad59f837",
   "metadata": {},
   "source": [
    "3.1 -  Fit a new linear model to predict average professor evaluation `score` (outcome) based on `gender` of the professor, `rank` of the professor, and `bty_avg`. Based on the regression output, write the linear model."
   ]
  },
  {
   "cell_type": "markdown",
   "id": "e944b463",
   "metadata": {},
   "source": [
    "3.2 - Write the null and alternative hypothesis seeing th scores are affected by beauty average, adjusting for rank and gender.\n"
   ]
  },
  {
   "cell_type": "markdown",
   "id": "1b4efd62",
   "metadata": {},
   "source": [
    "3.3 Conduct the hypothesis test written in 3.2."
   ]
  },
  {
   "cell_type": "markdown",
   "id": "02d6a8cc",
   "metadata": {},
   "source": [
    "3.4 Interpret the results of the Hypothesis Test."
   ]
  },
  {
   "cell_type": "markdown",
   "id": "Hf1ZaBqeD2NQ",
   "metadata": {
    "id": "Hf1ZaBqeD2NQ"
   },
   "source": [
    "## 4.0 Submit Notebook\n",
    "\n",
    "Submit the notebook to Canvas."
   ]
  }
 ],
 "metadata": {
  "colab": {
   "provenance": [
    {
     "file_id": "18ilF_eJM7AFiluO8eokOsNQJyrfXciwv",
     "timestamp": 1727201011671
    },
    {
     "file_id": "1TsHERJlCYTUJaWs6Aodz_5AzaTygaCMx",
     "timestamp": 1727199270276
    },
    {
     "file_id": "1v0COorunjodjFdgsyylO7TJtYQSUS1Zr",
     "timestamp": 1727050234862
    }
   ]
  },
  "jupytext": {
   "cell_metadata_filter": "language,tags,-all",
   "main_language": "R",
   "notebook_metadata_filter": "-all"
  },
  "kernelspec": {
   "display_name": "R",
   "name": "ir"
  },
  "language_info": {
   "name": "r"
  }
 },
 "nbformat": 4,
 "nbformat_minor": 5
}
