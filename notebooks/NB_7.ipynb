{
 "cells": [
  {
   "cell_type": "markdown",
   "id": "bPq93qjWWm1z",
   "metadata": {
    "id": "bPq93qjWWm1z"
   },
   "source": [
    "# Notebook 6: Grading the Professor Part 2\n",
    "\n",
    "*Modified from Data Science in a Box*"
   ]
  },
  {
   "cell_type": "code",
   "execution_count": null,
   "id": "_Kltm_ttJEB3",
   "metadata": {
    "colab": {
     "base_uri": "https://localhost:8080/"
    },
    "executionInfo": {
     "elapsed": 104861,
     "status": "ok",
     "timestamp": 1728497700437,
     "user": {
      "displayName": "Isaac Quintanilla-Salinas",
      "userId": "11102198638348214323"
     },
     "user_tz": 420
    },
    "id": "_Kltm_ttJEB3",
    "outputId": "d46ebe7a-1560-412b-fb25-74ccc531d82f"
   },
   "outputs": [],
   "source": [
    "# This code will load the R packages we will use\n",
    "install.packages(c(\"csucistats\", \"openintro\"),\n",
    "                 repos = c(\"https://inqs909.r-universe.dev\", \"https://cloud.r-project.org\"))\n",
    "library(csucistats)\n",
    "library(tidyverse)\n",
    "library(openintro)\n",
    "\n",
    "\n",
    "# Uncomment and run for categorical plots\n",
    "# csucistats::install_plots()\n",
    "# library(ggtricks)\n",
    "# library(ggmosaic)\n",
    "# library(waffle)\n",
    "\n",
    "# Uncomment and run for themes\n",
    "# csucistats::install_themes()\n",
    "# library(ThemePark)\n",
    "# library(ggthemes)"
   ]
  },
  {
   "cell_type": "markdown",
   "id": "821dffcb",
   "metadata": {
    "id": "821dffcb"
   },
   "source": [
    "## Introduction\n",
    "\n",
    "In this lab we revisit the professor evaluations data we modelled in the previous lab.\n",
    "In the last lab we modelled evaluation scores using a single predictor at a time.\n",
    "This time we will use multiple predictors to model evaluation scores.\n",
    "\n",
    "For context, review the previous lab's introduction before continuing on to the exercises.\n",
    "\n",
    "### Learning goals\n",
    "\n",
    "-   Fitting a linear regression with multiple predictors\n",
    "-   Interpreting regression output in context of the data\n",
    "-   Comparing models\n",
    "\n",
    "\n",
    "\n"
   ]
  },
  {
   "cell_type": "markdown",
   "id": "R8B4X61OZQN2",
   "metadata": {
    "id": "R8B4X61OZQN2"
   },
   "source": [
    "## Data\n",
    "\n",
    "The data can be found in the **openintro** package, and it's called `evals`.\n",
    "Since the dataset is distributed with the package, we don't need to load it separately; it becomes available to us when we load the package.\n",
    "You can find out more about the dataset by inspecting its documentation, which you can access by running `?evals` in the Console or using the Help menu in RStudio to search for `evals`.\n",
    "You can also find this information [here](https://www.openintro.org/data/index.php?data=evals)."
   ]
  },
  {
   "cell_type": "markdown",
   "id": "57c3f0c8",
   "metadata": {
    "id": "57c3f0c8"
   },
   "source": [
    "\n",
    "\n",
    "## Part 1\n",
    "\n",
    "## Simple linear regression\n",
    "\n",
    "1. Visualize the distribution for `bty_avg`.\n",
    "\n",
    "2. Fit a linear model predicting average professor evaluation `score` (outcome) based on average beauty rating (`bty_avg`) only.\n",
    "\n",
    "\n",
    "3. Write the linear model (equation), and note the $R^2$ and the adjusted $R^2$.\n",
    "\n",
    "\n"
   ]
  },
  {
   "cell_type": "markdown",
   "id": "xrI4Ie7tJyZ9",
   "metadata": {
    "id": "xrI4Ie7tJyZ9"
   },
   "source": [
    "## Part 2\n",
    "\n",
    "\n",
    "1.  Fit a linear model predicting average professor evaluation `score` based on average beauty rating (`bty_avg`) and `gender`.\n",
    "\n",
    "2. Write the linear model (equation), and note the $R^2$ and the adjusted $R^2$.\n",
    "\n",
    "3.  Interpret the slopes and intercept of for the model in context of the data.\n",
    "\n",
    "4.  What percent of the variability in `score` is explained by the model.\n",
    "\n",
    "\n"
   ]
  },
  {
   "cell_type": "markdown",
   "id": "-MB_FEkwicqv",
   "metadata": {
    "id": "-MB_FEkwicqv"
   },
   "source": [
    "## Part 3\n",
    "\n",
    "1.  What is the equation of the line corresponding to *just* male professors?\n",
    "\n",
    "2.  What is the equation to the line corresponding to *just* female professor?\n",
    "\n",
    "3.  For two professors who received the same beauty rating, which gender tends to have the higher course evaluation score?\n",
    "\n",
    "4.  How does the relationship between beauty and evaluation score vary between male and female professors?\n",
    "\n",
    "\n"
   ]
  },
  {
   "cell_type": "markdown",
   "id": "Fi1laRK5ikxO",
   "metadata": {
    "id": "Fi1laRK5ikxO"
   },
   "source": [
    "## Part 4\n",
    "\n",
    "1.  How do the adjusted $R^2$ values from **Part 1** and **Part 2** compare?\n",
    "    What does this tell us about how useful `gender` is in explaining the variability in evaluation scores when we already have information on the beauty score of the professor.\n",
    "\n",
    "2. Compare the slopes of `bty_avg` under the two models in **Part 1** and **Part 2**.\n",
    "    Has the addition of `gender` to the model changed the parameter estimate (slope) for `bty_avg`?\n",
    "\n",
    "3. Create a new model with `gender` removed and `rank` added in.\n",
    "    Write the equation of the linear model and interpret the slopes and intercept in context of the data.\n",
    "\n"
   ]
  }
 ],
 "metadata": {
  "colab": {
   "provenance": [
    {
     "file_id": "1sYN8dr0f_4gxmH6VVKVamCcwtUp4JEJK",
     "timestamp": 1728344360402
    }
   ]
  },
  "jupytext": {
   "cell_metadata_filter": "tags,-all",
   "main_language": "R",
   "notebook_metadata_filter": "-all"
  },
  "kernelspec": {
   "display_name": "R",
   "name": "ir"
  },
  "language_info": {
   "name": "r"
  }
 },
 "nbformat": 4,
 "nbformat_minor": 5
}
