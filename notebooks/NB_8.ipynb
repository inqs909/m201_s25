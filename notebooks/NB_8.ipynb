{
 "cells": [
  {
   "cell_type": "markdown",
   "id": "WWGop9jDakxd",
   "metadata": {
    "id": "WWGop9jDakxd"
   },
   "source": [
    "# NB 8: Modelling Premature Infants\n",
    "\n",
    "*Modified from Data Science in a Box*\n",
    "\n",
    "\n"
   ]
  },
  {
   "cell_type": "code",
   "execution_count": null,
   "id": "F8fJsV2ZajEw",
   "metadata": {
    "colab": {
     "base_uri": "https://localhost:8080/"
    },
    "executionInfo": {
     "elapsed": 95982,
     "status": "ok",
     "timestamp": 1728949680615,
     "user": {
      "displayName": "Isaac Quintanilla-Salinas",
      "userId": "11102198638348214323"
     },
     "user_tz": 420
    },
    "id": "F8fJsV2ZajEw",
    "outputId": "9f728036-f8ae-4f4e-83da-6a5d1764c579",
    "vscode": {
     "languageId": "r"
    }
   },
   "outputs": [],
   "source": [
    "# This code will load the R packages we will use\n",
    "install.packages(c(\"csucistats\", \"openintro\"),\n",
    "                 repos = c(\"https://inqs909.r-universe.dev\", \"https://cloud.r-project.org\"))\n",
    "library(csucistats)\n",
    "library(tidyverse)\n",
    "library(openintro)\n",
    "\n",
    "\n",
    "# Uncomment and run for categorical plots\n",
    "# csucistats::install_plots()\n",
    "# library(ggtricks)\n",
    "# library(ggmosaic)\n",
    "# library(waffle)\n",
    "\n",
    "# Uncomment and run for themes\n",
    "# csucistats::install_themes()\n",
    "# library(ThemePark)\n",
    "# library(ggthemes)"
   ]
  },
  {
   "cell_type": "markdown",
   "id": "3d2afd4c",
   "metadata": {
    "id": "3d2afd4c"
   },
   "source": [
    "In 2004, the state of North Carolina released a large data set containing information on births recorded in this state.\n",
    "This data set is useful to researchers studying the relation between habits and practices of expectant mothers and the birth of their children.\n",
    "We will work with a random sample of observations from this data set.\n",
    "\n"
   ]
  },
  {
   "cell_type": "markdown",
   "id": "A8-MEpKgcO68",
   "metadata": {
    "id": "A8-MEpKgcO68"
   },
   "source": [
    "## Data\n",
    "\n",
    "The data can be found in the **openintro** package, and it's called `ncbirths`.\n",
    "Since the dataset is distributed with the package, we don't need to load it separately; it becomes available to us when we load the package.\n",
    "You can find out more about the dataset by inspecting its documentation, which you can access by running `?ncbirths` in the Console or using the Help menu in RStudio to search for `ncbirths`.\n",
    "You can also find this information [here](https://www.openintro.org/data/index.php?data=ncbirths)."
   ]
  },
  {
   "cell_type": "markdown",
   "id": "a12200b5",
   "metadata": {
    "id": "a12200b5"
   },
   "source": [
    "\n",
    "\n",
    "\n",
    "\n",
    "## Part 1: Premature vs. smoking\n",
    "\n",
    "Consider the possible relationship between a mother's smoking habit and if an infant is premature. A first good step is to get a cross-tabulations table of the two variables.\n",
    "\n",
    "\n"
   ]
  },
  {
   "cell_type": "markdown",
   "id": "z8V_B8DUdK80",
   "metadata": {
    "id": "z8V_B8DUdK80"
   },
   "source": [
    "1.  Create a cross-tabs table between `habit` and `premie`.\n",
    "\n"
   ]
  },
  {
   "cell_type": "markdown",
   "id": "W4AQtZUpdM0r",
   "metadata": {
    "id": "W4AQtZUpdM0r"
   },
   "source": [
    "2. Looking at smoking mothers, what is the proportion of infants who are premature?\n"
   ]
  },
  {
   "cell_type": "markdown",
   "id": "zqRNpknudOsL",
   "metadata": {
    "id": "zqRNpknudOsL"
   },
   "source": [
    "\n",
    "3. Looking at nonsmoking mothers, what is the proportion of infants who are premature?\n",
    "\n"
   ]
  },
  {
   "cell_type": "markdown",
   "id": "ddw1B2YEdRd7",
   "metadata": {
    "id": "ddw1B2YEdRd7"
   },
   "source": [
    "4. What is the difference of proportions in premature infants between smoking and nonsmoking mothers?"
   ]
  },
  {
   "cell_type": "markdown",
   "id": "gITgc7IBdTyD",
   "metadata": {
    "id": "gITgc7IBdTyD"
   },
   "source": [
    "## Part 2: Using Logistic Regression"
   ]
  },
  {
   "cell_type": "markdown",
   "id": "qCJrJXxTdYTJ",
   "metadata": {
    "id": "qCJrJXxTdYTJ"
   },
   "source": [
    "1. Use the logistic regression to model the outcome `premie` and `habit`."
   ]
  },
  {
   "cell_type": "markdown",
   "id": "VtndtNTCdj7L",
   "metadata": {
    "id": "VtndtNTCdj7L"
   },
   "source": [
    "2. What is the probability of having a premature baby for a smoking mother?"
   ]
  },
  {
   "cell_type": "markdown",
   "id": "utmU3AN7dxHq",
   "metadata": {
    "id": "utmU3AN7dxHq"
   },
   "source": [
    "3. What is the probability of having a premature baby for a nonsmoking mother?"
   ]
  },
  {
   "cell_type": "markdown",
   "id": "DJdddp38eh8K",
   "metadata": {
    "id": "DJdddp38eh8K"
   },
   "source": [
    "4. What is the difference in the probabilities?"
   ]
  },
  {
   "cell_type": "markdown",
   "id": "3kcdPw4uen3K",
   "metadata": {
    "id": "3kcdPw4uen3K"
   },
   "source": [
    "5. Compare the results from **Part 1**. Comment on what you found."
   ]
  },
  {
   "cell_type": "markdown",
   "id": "dnzZUpujexiS",
   "metadata": {
    "id": "dnzZUpujexiS"
   },
   "source": [
    "## Part 3: Adjusting for Mother's Mature Status\n",
    "\n",
    "Now consider how Mother's Maturity affects the likelihood of seeing a premature infant."
   ]
  },
  {
   "cell_type": "markdown",
   "id": "lciRfujFh7a0",
   "metadata": {
    "id": "lciRfujFh7a0"
   },
   "source": [
    "1. Use a logistic regression model to characterize the association between the outcome `premie` and predictors `habit` and `mature`."
   ]
  },
  {
   "cell_type": "markdown",
   "id": "XDyrrLBeiffZ",
   "metadata": {
    "id": "XDyrrLBeiffZ"
   },
   "source": [
    "2. Interpret the odds ratio for `habit`."
   ]
  },
  {
   "cell_type": "markdown",
   "id": "wzDmVUR0ikYZ",
   "metadata": {
    "id": "wzDmVUR0ikYZ"
   },
   "source": [
    "3. Interpret the odds ration for `mature`."
   ]
  },
  {
   "cell_type": "markdown",
   "id": "iq6uI1ZyiO4j",
   "metadata": {
    "id": "iq6uI1ZyiO4j"
   },
   "source": [
    "4. What is the probability of observing a premature infant to a mother who is smoking and young?"
   ]
  },
  {
   "cell_type": "markdown",
   "id": "dncRmchMibUA",
   "metadata": {
    "id": "dncRmchMibUA"
   },
   "source": [
    "5. What is the probability of observing a premature infant to a mother who is smoking and older?"
   ]
  },
  {
   "cell_type": "markdown",
   "id": "IH-8dQ1Ee9lC",
   "metadata": {
    "id": "IH-8dQ1Ee9lC"
   },
   "source": [
    "## Part 4: Releveling Premature Variable\n",
    "\n",
    "Modelling full-term instead of premature."
   ]
  },
  {
   "cell_type": "markdown",
   "id": "tHJ_PMGdizjp",
   "metadata": {
    "id": "tHJ_PMGdizjp"
   },
   "source": [
    "1. Use the `levels` function on `ncbirths$premie` to determine which is the reference level (first category)."
   ]
  },
  {
   "cell_type": "markdown",
   "id": "g44MyZsygw1Q",
   "metadata": {
    "id": "g44MyZsygw1Q"
   },
   "source": [
    "2. Type `relevel(ncbirths$premie, ref = \"premie\")`, and explain in words what happened.\n"
   ]
  },
  {
   "cell_type": "markdown",
   "id": "TcVsRFdVjbEo",
   "metadata": {
    "id": "TcVsRFdVjbEo"
   },
   "source": [
    "3. Model **Part 3** with a \"full term\" infant instead of a \"premie\"."
   ]
  },
  {
   "cell_type": "markdown",
   "id": "WXOa_Sp7j2bp",
   "metadata": {
    "id": "WXOa_Sp7j2bp"
   },
   "source": [
    "4. Interpret the odds ratio for mature."
   ]
  },
  {
   "cell_type": "markdown",
   "id": "1svHwzgLkCYH",
   "metadata": {
    "id": "1svHwzgLkCYH"
   },
   "source": [
    "5. What is the probability of observing a full term infant to a mother who is smoking and young?"
   ]
  },
  {
   "cell_type": "markdown",
   "id": "HzqbpXelkJJG",
   "metadata": {
    "id": "HzqbpXelkJJG"
   },
   "source": [
    "6. Compare your results to Part 3 Problem 4. How are they related to each other?"
   ]
  }
 ],
 "metadata": {
  "colab": {
   "provenance": [
    {
     "file_id": "192oWYRk6cJNaoeBmYOyqotRonBvZWRCZ",
     "timestamp": 1728949278656
    }
   ]
  },
  "jupytext": {
   "cell_metadata_filter": "tags,name,eval,-all",
   "main_language": "R",
   "notebook_metadata_filter": "-all"
  },
  "kernelspec": {
   "display_name": "R",
   "name": "ir"
  },
  "language_info": {
   "name": "R"
  }
 },
 "nbformat": 4,
 "nbformat_minor": 5
}
