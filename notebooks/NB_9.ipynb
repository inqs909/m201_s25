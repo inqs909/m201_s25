{
 "cells": [
  {
   "cell_type": "markdown",
   "id": "9rajaR2ROLEg",
   "metadata": {
    "id": "9rajaR2ROLEg"
   },
   "source": [
    "# NB 7: - Grading the professor, Pt. 3\n",
    "\n",
    "*Modified from Data Science in a box*"
   ]
  },
  {
   "cell_type": "code",
   "execution_count": null,
   "id": "027d8a16",
   "metadata": {
    "colab": {
     "base_uri": "https://localhost:8080/"
    },
    "executionInfo": {
     "elapsed": 108403,
     "status": "ok",
     "timestamp": 1729720817148,
     "user": {
      "displayName": "Isaac Quintanilla-Salinas",
      "userId": "11102198638348214323"
     },
     "user_tz": 420
    },
    "id": "027d8a16",
    "outputId": "356cefd5-4b69-4421-d9f2-cb23ddb964af",
    "tags": [
     "remove_cell"
    ],
    "vscode": {
     "languageId": "r"
    }
   },
   "outputs": [],
   "source": [
    "# This code will load the R packages we will use\n",
    "install.packages(c(\"csucistats\", \"openintro\"),\n",
    "                 repos = c(\"https://inqs909.r-universe.dev\", \"https://cloud.r-project.org\"))\n",
    "library(csucistats)\n",
    "library(tidyverse)\n",
    "library(openintro)\n",
    "\n",
    "\n",
    "# Uncomment and run for categorical plots\n",
    "# csucistats::install_plots()\n",
    "# library(ggtricks)\n",
    "# library(ggmosaic)\n",
    "# library(waffle)\n",
    "\n",
    "# Uncomment and run for themes\n",
    "# csucistats::install_themes()\n",
    "# library(ThemePark)\n",
    "# library(ggthemes)\n"
   ]
  },
  {
   "cell_type": "markdown",
   "id": "jZL-RvAZPEvr",
   "metadata": {
    "id": "jZL-RvAZPEvr"
   },
   "source": [
    "## Introduction"
   ]
  },
  {
   "cell_type": "markdown",
   "id": "273363a1",
   "metadata": {
    "id": "273363a1"
   },
   "source": [
    "Many college courses conclude by giving students the opportunity to evaluate the course and the instructor anonymously.\n",
    "However, the use of these student evaluations as an indicator of course quality and teaching effectiveness is often criticized because these measures may reflect the influence of non-teaching related characteristics, such as the physical appearance of the instructor.\n",
    "The article titled, \"Beauty in the classroom: instructors' pulchritude and putative pedagogical productivity\" (Hamermesh and Parker, 2005) found that instructors who are viewed to be better looking receive higher instructional ratings.\n",
    "(Daniel S. Hamermesh, Amy Parker, Beauty in the classroom: instructors pulchritude and putative pedagogical productivity, Economics of Education Review, Volume 24, Issue 4, August 2005, Pages 369-376, ISSN 0272-7757, 10.1016/j.econedurev.2004.07.013. <http://www.sciencedirect.com/science/article/pii/S0272775704001165>.)\n",
    "\n",
    "\n",
    "\n"
   ]
  },
  {
   "cell_type": "markdown",
   "id": "wCoC-CRdPHie",
   "metadata": {
    "id": "wCoC-CRdPHie"
   },
   "source": [
    "## Data"
   ]
  },
  {
   "cell_type": "markdown",
   "id": "30de9ef8",
   "metadata": {
    "id": "30de9ef8"
   },
   "source": [
    "In this notebook you will analyze the data from this study in order to learn what goes into a positive professor evaluation.\n",
    "\n",
    "The data were gathered from end of semester student evaluations for a large sample of professors from the University of Texas at Austin.\n",
    "In addition, six students rated the professors' physical appearance.\n",
    "(This is a slightly modified version of the original data set that was released as part of the replication data for Data Analysis Using Regression and Multilevel/Hierarchical Models (Gelman and Hill, 2007).) The result is a data frame where each row contains a different course and columns represent variables about the courses and professors.\n",
    "\n",
    "The data can be found in the **openintro** package, and it's called `evals`.\n",
    "Since the dataset is distributed with the package, we don't need to load it separately; it becomes available to us when we load the package.\n",
    "You can find out more about the dataset by inspecting its documentation, which you can access by running `?evals` in the Console or using the Help menu in RStudio to search for `evals`.\n",
    "You can also find this information [here](https://www.openintro.org/data/index.php?data=evals).\n",
    "\n"
   ]
  },
  {
   "cell_type": "markdown",
   "id": "759b421b",
   "metadata": {
    "id": "759b421b"
   },
   "source": [
    "\n",
    "## 1.0 - Linear regression with a numerical predictor"
   ]
  },
  {
   "cell_type": "markdown",
   "id": "YAdxQ0fRTyTM",
   "metadata": {
    "id": "YAdxQ0fRTyTM"
   },
   "source": [
    "1.1 - Fit a linear model predict average professor evaluation `score` (outcome) by average beauty rating (`bty_avg`).\n",
    "    Based on the regression output, write the linear model.\n",
    "\n"
   ]
  },
  {
   "cell_type": "markdown",
   "id": "lbOIs4a3UQHS",
   "metadata": {
    "id": "lbOIs4a3UQHS"
   },
   "source": [
    "1.2 - Interpret the slope of the linear model in context of the data.\n",
    "\n"
   ]
  },
  {
   "cell_type": "markdown",
   "id": "HdrSUliVUVsD",
   "metadata": {
    "id": "HdrSUliVUVsD"
   },
   "source": [
    "1.3 - Interpret the intercept of the linear model in context of the data.\n",
    "    Comment on whether or not the intercept makes sense in this context.\n",
    "\n",
    "\n"
   ]
  },
  {
   "cell_type": "markdown",
   "id": "1v_crN77bchY",
   "metadata": {
    "id": "1v_crN77bchY"
   },
   "source": [
    "1.4 - Write the null and alternative hypothesis to determine if `bty_avg` and `score` are associated or random."
   ]
  },
  {
   "cell_type": "markdown",
   "id": "azWZws84bqAR",
   "metadata": {
    "id": "azWZws84bqAR"
   },
   "source": [
    "1.5 - What Statistic would you use to test the null hypothesis?"
   ]
  },
  {
   "cell_type": "markdown",
   "id": "v490yvrvclSc",
   "metadata": {
    "id": "v490yvrvclSc"
   },
   "source": [
    "\n",
    "## 2.0 Testing the Null Hypothesis\n",
    "\n"
   ]
  },
  {
   "cell_type": "markdown",
   "id": "1M8GR5i8csZ4",
   "metadata": {
    "id": "1M8GR5i8csZ4"
   },
   "source": [
    "2.1 - Write the code to extract the statistic of interest for Part 1."
   ]
  },
  {
   "cell_type": "markdown",
   "id": "aRDoXwp2mBTd",
   "metadata": {
    "id": "aRDoXwp2mBTd"
   },
   "source": [
    "2.2 - Write the code to shuffle the data and compute the statistic."
   ]
  },
  {
   "cell_type": "markdown",
   "id": "Yr8TY3KQmP1M",
   "metadata": {
    "id": "Yr8TY3KQmP1M"
   },
   "source": [
    "2.3 - Construct the sampling distribution of the null hypothesis."
   ]
  },
  {
   "cell_type": "markdown",
   "id": "KKkrGtD6mZVe",
   "metadata": {
    "id": "KKkrGtD6mZVe"
   },
   "source": [
    "2.4 - Plot the null distribution and the true data statistic."
   ]
  },
  {
   "cell_type": "markdown",
   "id": "SlUHhuoDm3f8",
   "metadata": {
    "id": "SlUHhuoDm3f8"
   },
   "source": [
    "2.5 - Compute the the p-value associated with the null distribution and test statistic."
   ]
  },
  {
   "cell_type": "markdown",
   "id": "Ua1T3HT0m_Lr",
   "metadata": {
    "id": "Ua1T3HT0m_Lr"
   },
   "source": [
    "2.6 - Comment on the results of the p-value."
   ]
  },
  {
   "cell_type": "markdown",
   "id": "9200ed96",
   "metadata": {
    "id": "9200ed96"
   },
   "source": [
    "\n",
    "## 3.0 Linear regression with a categorical predictor\n",
    "\n"
   ]
  },
  {
   "cell_type": "markdown",
   "id": "V4MM5CliVca0",
   "metadata": {
    "id": "V4MM5CliVca0"
   },
   "source": [
    "3.1 Create a visual plot displaying the distribution of the data between the numerical variable `score` and categorical variable `gender`."
   ]
  },
  {
   "cell_type": "markdown",
   "id": "nDKwwTdEUi94",
   "metadata": {
    "id": "nDKwwTdEUi94"
   },
   "source": [
    "3.2 -  Fit a new linear model to predict average professor evaluation `score` (outcome) based on `gender` of the professor.\n",
    "    Based on the regression output, write the linear model.\n",
    "\n"
   ]
  },
  {
   "cell_type": "markdown",
   "id": "j713N0PFUsKR",
   "metadata": {
    "id": "j713N0PFUsKR"
   },
   "source": [
    "3.3 - Write the null and alternative hypothesis seeing th scores are different by gender.\n"
   ]
  },
  {
   "cell_type": "markdown",
   "id": "ozfICdJflnq3",
   "metadata": {
    "id": "ozfICdJflnq3"
   },
   "source": [
    "3.4 - What Statistic would you use to test the null hypothesis?"
   ]
  },
  {
   "cell_type": "markdown",
   "id": "TzW1tp-3VG8L",
   "metadata": {
    "id": "TzW1tp-3VG8L"
   },
   "source": [
    "## 4.0 Testing the Null Hypothesis"
   ]
  },
  {
   "cell_type": "markdown",
   "id": "Qd11lU7KnHgg",
   "metadata": {
    "id": "Qd11lU7KnHgg"
   },
   "source": [
    "4.1 - Write the code to extract the statistic of interest for Part 3."
   ]
  },
  {
   "cell_type": "markdown",
   "id": "MnEFwnqHnHgh",
   "metadata": {
    "id": "MnEFwnqHnHgh"
   },
   "source": [
    "4.2 - Write the code to shuffle the data and compute the statistic."
   ]
  },
  {
   "cell_type": "markdown",
   "id": "hFLTY1Z7nHgh",
   "metadata": {
    "id": "hFLTY1Z7nHgh"
   },
   "source": [
    "4.3 - Construct the sampling distribution of the null hypothesis."
   ]
  },
  {
   "cell_type": "markdown",
   "id": "spKkV2zCnHgh",
   "metadata": {
    "id": "spKkV2zCnHgh"
   },
   "source": [
    "4.4 - Plot the null distribution and the true data statistic."
   ]
  },
  {
   "cell_type": "markdown",
   "id": "M6gogKbJnHgk",
   "metadata": {
    "id": "M6gogKbJnHgk"
   },
   "source": [
    "4.5 - Compute the the p-value associated with the null distribution and test statistic."
   ]
  },
  {
   "cell_type": "markdown",
   "id": "PKz3uCHmnHgk",
   "metadata": {
    "id": "PKz3uCHmnHgk"
   },
   "source": [
    "4.6 - Comment on the results of the p-value."
   ]
  },
  {
   "cell_type": "markdown",
   "id": "Hf1ZaBqeD2NQ",
   "metadata": {
    "id": "Hf1ZaBqeD2NQ"
   },
   "source": [
    "## 5.0 Submit Notebook\n",
    "\n",
    "Submit the notebook to Canvas."
   ]
  }
 ],
 "metadata": {
  "colab": {
   "provenance": [
    {
     "file_id": "18ilF_eJM7AFiluO8eokOsNQJyrfXciwv",
     "timestamp": 1727201011671
    },
    {
     "file_id": "1TsHERJlCYTUJaWs6Aodz_5AzaTygaCMx",
     "timestamp": 1727199270276
    },
    {
     "file_id": "1v0COorunjodjFdgsyylO7TJtYQSUS1Zr",
     "timestamp": 1727050234862
    }
   ]
  },
  "jupytext": {
   "cell_metadata_filter": "language,tags,-all",
   "main_language": "R",
   "notebook_metadata_filter": "-all"
  },
  "kernelspec": {
   "display_name": "R",
   "name": "ir"
  },
  "language_info": {
   "name": "R"
  }
 },
 "nbformat": 4,
 "nbformat_minor": 5
}
