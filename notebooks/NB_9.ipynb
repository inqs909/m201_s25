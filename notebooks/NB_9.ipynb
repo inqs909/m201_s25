{
 "cells": [
  {
   "cell_type": "markdown",
   "metadata": {
    "cell_id": "b02c55cd-aae2-451e-9d6e-86d67c22e016",
    "deepnote_cell_height": 81.953125,
    "deepnote_cell_type": "markdown",
    "id": "IEXoAap8aCfL",
    "tags": []
   },
   "source": [
    "# NB 5: The Probability of Pokémon\n",
    "*Modified from Coureskata*"
   ]
  },
  {
   "cell_type": "code",
   "execution_count": null,
   "metadata": {
    "cell_id": "53de3caa-f9fc-4130-a6bb-49b51b753e5f",
    "colab": {
     "base_uri": "https://localhost:8080/"
    },
    "deepnote_cell_height": 129.953125,
    "deepnote_cell_type": "code",
    "deepnote_to_be_reexecuted": false,
    "executionInfo": {
     "elapsed": 111583,
     "status": "ok",
     "timestamp": 1730847049962,
     "user": {
      "displayName": "Isaac Quintanilla-Salinas",
      "userId": "11102198638348214323"
     },
     "user_tz": 480
    },
    "execution_millis": 1579,
    "execution_start": 1610076295466,
    "id": "cuXRT0HsaCfN",
    "outputId": "929b1db6-425c-48ce-98a7-cf1929b7855a",
    "source_hash": "68ca4345",
    "tags": [],
    "trusted": true,
    "vscode": {
     "languageId": "r"
    }
   },
   "outputs": [],
   "source": [
    "# This code will load the R packages we will use\n",
    "install.packages(c(\"csucistats\", \"openintro\"),\n",
    "                 repos = c(\"https://inqs909.r-universe.dev\", \"https://cloud.r-project.org\"))\n",
    "library(csucistats)\n",
    "library(tidyverse)\n",
    "library(openintro)\n",
    "\n",
    "linktocsv <- \"https://docs.google.com/spreadsheets/d/e/2PACX-1vTyGgp4Pdt8diSAiJ0MD4WzyRdGMojMePO9DHreNWczPoDYOzWDGRB4MqrQLtC-ytcWb7QozkhYPmQc/pub?output=csv\"\n",
    "pokemon <- read_csv(linktocsv)"
   ]
  },
  {
   "cell_type": "markdown",
   "metadata": {
    "cell_id": "3aa0d9ec-4a39-4f90-b637-5cc6a82a52ff",
    "deepnote_cell_height": 887.109375,
    "deepnote_cell_type": "markdown",
    "id": "Pub6s_hSaCfO",
    "tags": []
   },
   "source": [
    "### Welcome to the world of Pokémon (e.g., video games, card game, Pokémon Go, anime)!\n",
    "\n",
    "<img src=\"https://i.postimg.cc/wgQQYYyL/6-B-Various-Pokemon.jpg\" title=\"varieties of pokemon\" />\n",
    "\n",
    "The Pokémon franchise, introduced originally as a Nintendo video game (1996), is all about catching, training, and battling with Pokémon (a Japanese shortening of “Pocket Monster\"). Over the years, there have come to be over 800 fictional Pokémon species that range from animal-like to plant-like creatures, and even species based on inanimate objects (like *Klang* which looks like interlocking gears).\n",
    "\n",
    "There are eighteen different Types of Pokémon (such as Grass, Water, Fire, etc.) and each type has its own individual strengths and weaknesses. For instance, Grass is generally strong against Water, Water is usually strong against Fire, and Fire is generally strong against Grass (similar to the game “Rock, Paper, Scissors”).\n",
    "\n",
    "The goal of the game is to become the strongest Trainer by catching and training as many Pokémon as you can and battling them against your opponent’s Pokémon (hence, the slogan “Gotta catch ‘em all!”). When you catch a Pokémon, they shrink down into poké balls that can fit in your pocket."
   ]
  },
  {
   "cell_type": "markdown",
   "metadata": {
    "cell_id": "bdac46c1-d06c-4af0-8304-43739742dd3b",
    "deepnote_cell_height": 852.890625,
    "deepnote_cell_type": "markdown",
    "id": "Gtfo2pLPaCfP",
    "tags": []
   },
   "source": [
    "**<center>One of the most well-known Pokémon characters is Pikachu:</center>**\n",
    "\n",
    "<img src=\"https://i.postimg.cc/rqWwn871/6-B-Pikachu.png\" title=\"pokemon character pikachu\" width = 300 align = \"center\">\n",
    "\n",
    "### **<center>Did you know?</center>**\n",
    "\n",
    "### **<center>Pikachu Name origin:</center>**\n",
    "<br>\n",
    "<div align=\"center\"><u>Pikapika</u> - Japanese for a ‘sparkle’</div>\n",
    "<br>\n",
    "<div align=\"center\"><u>Chu</u> - Japanese for a ‘squeak’ sound</div>\n",
    "<br>\n",
    "<div align=\"center\">(Source: <a href=\"https://pokemondb.net/pokedex/pikachu\">pokemondb.net</a>)</div>"
   ]
  },
  {
   "cell_type": "markdown",
   "metadata": {
    "cell_id": "465528dd-a56f-49ed-8255-c6a02ce40780",
    "deepnote_cell_height": 69.96875,
    "deepnote_cell_type": "markdown",
    "id": "m3esbcU2aCfQ",
    "tags": []
   },
   "source": [
    "## 1.0 - Pokémon Stats"
   ]
  },
  {
   "cell_type": "markdown",
   "metadata": {
    "cell_id": "5038281b-3936-4d19-970d-d2ae005a5f9f",
    "deepnote_cell_height": 74.75,
    "deepnote_cell_type": "markdown",
    "id": "ws9GJEtsaCfQ",
    "tags": []
   },
   "source": [
    "1.1 - View the `pokemon` data set."
   ]
  },
  {
   "cell_type": "markdown",
   "metadata": {
    "cell_id": "5970eecd-050d-4309-b28e-0995159e44bc",
    "deepnote_cell_height": 603.578125,
    "deepnote_cell_type": "markdown",
    "id": "54e40DuuaCfR",
    "tags": []
   },
   "source": [
    "These are the raw attributes that are used for calculating how much damage an attack will do in the games. This dataset is about the Pokémon video games (*NOT* Pokémon cards or Pokémon Go).\n",
    "\n",
    "The data frame contains the following variables:\n",
    "\n",
    "- `ID`: ID for each Pokémon\n",
    "- `Name`: Name of each Pokémon\n",
    "- `Type1`: Each Pokémon has a Type, this determines weakness/resistance to attacks\n",
    "- `Type2`: Some Pokémon are dual Type and have 2\n",
    "- `HowManyTypes`: How many Types the Pokémon has (1 or 2)\n",
    "- `Total`: Sum of all stats that come after this, a general guide to how strong a Pokémon is\n",
    "- `HitPoints`: Hit points, or health, defines how much damage a Pokémon can withstand before fainting\n",
    "- `Attack`: The base modifier for normal attacks (eg. Scratch, Punch)\n",
    "- `Defense`: The base damage resistance against normal attacks\n",
    "- `SpAttack`: Special attack, the base modifier for special attacks (e.g. fire blast, bubble beam)\n",
    "- `SpDef`: The base damage resistance against special attacks\n",
    "- `Speed`: Determines which Pokémon attacks first each round\n",
    "- `Generation`: A grouping of the Pokémon games that separates them based on the Pokémon they include (each generation, a new set of Pokémon, moves, and Abilities that did not exist in the previous generation are released)\n",
    "- `Legendary`: A group of incredibly rare and often very powerful Pokémon, generally featured prominently in the legends and myths of the Pokémon world"
   ]
  },
  {
   "cell_type": "markdown",
   "metadata": {
    "cell_id": "62b172c6-04b8-4f82-8270-bd6c29edea98",
    "deepnote_cell_height": 69.96875,
    "deepnote_cell_type": "markdown",
    "id": "jMSWE9WRaCfS",
    "tags": []
   },
   "source": [
    "## 2.0 - Using R to Play a Hypothetical Game"
   ]
  },
  {
   "cell_type": "markdown",
   "metadata": {
    "cell_id": "3211a484-acc2-4e3b-b9fc-d524df16a7a8",
    "deepnote_cell_height": 97.140625,
    "deepnote_cell_type": "markdown",
    "id": "xPGdmMeVaCfT",
    "tags": []
   },
   "source": [
    "For the sake of simplicity, let's try simulating a one-on-one match-up (and for all of the Pokémon pros here today, we acknowledge that a round in the actual game is much more complex than this!)."
   ]
  },
  {
   "cell_type": "markdown",
   "metadata": {
    "cell_id": "108ae9fe-d883-4d96-9cb6-75b4414c9491",
    "deepnote_cell_height": 74.75,
    "deepnote_cell_type": "markdown",
    "id": "NhvkBTivaCfT",
    "tags": []
   },
   "source": [
    "2.1 - Use R to randomly sample 1 Pokémon for you out of all these possible Pokémon. What is the name of your battle Pokémon? What type is it? Try Googling it to find a picture."
   ]
  },
  {
   "cell_type": "code",
   "execution_count": null,
   "metadata": {
    "cell_id": "c056cc18-7e2e-49e0-a557-eaca136202c8",
    "deepnote_cell_height": 96.953125,
    "deepnote_cell_type": "code",
    "id": "jn94OcieaCfT",
    "tags": [],
    "trusted": true,
    "vscode": {
     "languageId": "r"
    }
   },
   "outputs": [],
   "source": [
    "MyPokemon <- slice_sample(pokemon, n = 1)\n",
    "\n",
    "# why isn't this printing anything?"
   ]
  },
  {
   "cell_type": "markdown",
   "metadata": {
    "cell_id": "a35d6080-d547-48fc-8707-ee2294540c4d",
    "deepnote_cell_height": 74.75,
    "deepnote_cell_type": "markdown",
    "id": "2HNKiRspaCfT",
    "tags": []
   },
   "source": [
    "2.2 - What are the stats of your battle Pokémon? Do you think it is a strong one? Will it likely have a good chance of beating an opponent?"
   ]
  },
  {
   "cell_type": "markdown",
   "metadata": {
    "cell_id": "86bf5eb2-bb29-4669-814a-beb28699725d",
    "deepnote_cell_height": 97.140625,
    "deepnote_cell_type": "markdown",
    "id": "KjiRjsQ3aCfT",
    "tags": []
   },
   "source": [
    "2.3 - Let’s take a look at your character’s `HitPoints` as one possible measure of its strength. If your Pokémon goes up against a classmate's Pokémon, who will have the higher `HitPoints`? What information would you need to have a sense of this?"
   ]
  },
  {
   "cell_type": "markdown",
   "metadata": {
    "cell_id": "00014-5faf6910-b83d-4e20-8b6a-bbd837fa8592",
    "deepnote_cell_height": 69.96875,
    "deepnote_cell_type": "markdown",
    "id": "XXCs9XXiaCfU",
    "tags": []
   },
   "source": [
    "## 3.0 - A Distribution of Pokemon"
   ]
  },
  {
   "cell_type": "markdown",
   "metadata": {
    "cell_id": "00015-24482c29-d799-467c-a755-0925fbd8a04f",
    "deepnote_cell_height": 74.75,
    "deepnote_cell_type": "markdown",
    "id": "jCRDVqhXaCfU",
    "tags": []
   },
   "source": [
    "3.1 - Make a visualization to explore variation in `HitPoints`. What do all the other Pokémon's `HitPoints` look like? How does your Pokémon compare?"
   ]
  },
  {
   "cell_type": "markdown",
   "metadata": {
    "cell_id": "00014-b147c3ba-b52c-41be-b331-3ecaded5eb6c",
    "deepnote_cell_height": 74.75,
    "deepnote_cell_type": "markdown",
    "id": "XhaOV3Z_aCfU",
    "tags": []
   },
   "source": [
    "3.2 - Try adding a line that represents your battle Pokémon's `HitPoints`. If you want you can pick a color that is similar to the color of your Pokémon ([colors in R](http://www.stat.columbia.edu/~tzheng/files/Rcolor.pdf))!"
   ]
  },
  {
   "cell_type": "markdown",
   "metadata": {
    "cell_id": "00018-b630b10b-ed17-418f-b8b0-14ec4fc44c7f",
    "deepnote_cell_height": 97.140625,
    "deepnote_cell_type": "markdown",
    "id": "0V7Fd7weaCfU",
    "tags": []
   },
   "source": [
    "3.3 - If you had to make a guess about your future opponent's `HitPoints`, what would you guess? What's the *best fitting* model of `HitPoints` (if you didn't know any more information about this future Pokémon)?"
   ]
  },
  {
   "cell_type": "code",
   "execution_count": null,
   "metadata": {
    "cell_id": "00019-13e608a5-101d-476b-a36e-b245a2738acd",
    "deepnote_cell_height": 60.953125,
    "deepnote_cell_type": "code",
    "id": "Vsi5WtYtaCfU",
    "tags": [],
    "trusted": true,
    "vscode": {
     "languageId": "r"
    }
   },
   "outputs": [],
   "source": [
    "# Best Guess Statistic"
   ]
  },
  {
   "cell_type": "markdown",
   "metadata": {
    "cell_id": "00020-ccc747a6-e1a1-4773-8e0b-e73c0f504a03",
    "deepnote_cell_height": 391.703125,
    "deepnote_cell_type": "markdown",
    "id": "TJfqBkY9aCfV",
    "tags": []
   },
   "source": [
    "3.4 - Notice the shape of the distribution of `HitPoints`. Fit a normal distribution over it with the best mean and standard deviation you can come up with.\n",
    "\n"
   ]
  },
  {
   "cell_type": "markdown",
   "metadata": {
    "id": "ffkj7dh0rGBm"
   },
   "source": [
    "3.5 - Does the normal distribution describe the distribution of `HitPoints` well?"
   ]
  },
  {
   "cell_type": "markdown",
   "metadata": {
    "cell_id": "00024-4d6f7257-05ff-4994-acda-3b9e4526c4eb",
    "deepnote_cell_height": 69.96875,
    "deepnote_cell_type": "markdown",
    "id": "YvNdZ57BaCfX",
    "tags": []
   },
   "source": [
    "## 4.0 - Simulating a Bunch of Opponents"
   ]
  },
  {
   "cell_type": "markdown",
   "metadata": {
    "cell_id": "00025-ffd1f248-9ee5-40e0-bbfd-765fc3438d89",
    "deepnote_cell_height": 97.140625,
    "deepnote_cell_type": "markdown",
    "id": "dS9rM6n2aCfX",
    "tags": []
   },
   "source": [
    "4.1 - Let's do a few simulated battles! Run the code below. Who has more `HitPoints`: your Pokémon or your opponent's Pokémon? Run this code a few times, who generally has more hit points, you or your opponents?"
   ]
  },
  {
   "cell_type": "code",
   "execution_count": null,
   "metadata": {
    "cell_id": "00026-ffd2e0c8-2812-4140-b17a-bb95de497dfe",
    "deepnote_cell_height": 78.953125,
    "deepnote_cell_type": "code",
    "id": "WAB55WkpaCfX",
    "tags": [],
    "trusted": true,
    "vscode": {
     "languageId": "r"
    }
   },
   "outputs": [],
   "source": [
    "OpponentPokemon <- slice_sample(pokemon, n = 1)\n",
    "select(OpponentPokemon, Name, HitPoints)"
   ]
  },
  {
   "cell_type": "markdown",
   "metadata": {
    "cell_id": "00027-006b9748-b01e-4e2f-9f60-f25d028a8c73",
    "deepnote_cell_height": 155.9375,
    "deepnote_cell_type": "markdown",
    "id": "MCg9HD03aCfX",
    "tags": []
   },
   "source": [
    "4.2 - If you did 10 one-on-one battles, how many of those battles would be against Pokémon that have *more* `HitPoints` than your Pokémon? What if your Pokémon participated in 100 or 1000 battles?\n",
    "\n"
   ]
  },
  {
   "cell_type": "code",
   "execution_count": null,
   "metadata": {
    "cell_id": "00028-4c629e37-417b-4596-846d-42633a44ebdd",
    "deepnote_cell_height": 150.953125,
    "deepnote_cell_type": "code",
    "id": "WFuf7zsPaCfY",
    "tags": [],
    "trusted": true,
    "vscode": {
     "languageId": "r"
    }
   },
   "outputs": [],
   "source": [
    "# modify this code for 10 opponents\n",
    "OpponentPokemon <-slice_sample(pokemon, n = 1)\n",
    "select(OpponentPokemon, Name, HitPoints)\n"
   ]
  },
  {
   "cell_type": "markdown",
   "metadata": {
    "cell_id": "957041b3-4925-4120-8047-bbbe9f6339a1",
    "deepnote_cell_height": 69.96875,
    "deepnote_cell_type": "markdown",
    "id": "YYoUfYVAaCfY",
    "tags": []
   },
   "source": [
    "## 5.0 - Catch Another Pokémon"
   ]
  },
  {
   "cell_type": "markdown",
   "metadata": {
    "cell_id": "00035-2fdd6fb8-4b30-401e-802a-7cb0f50934e3",
    "deepnote_cell_height": 74.75,
    "deepnote_cell_type": "markdown",
    "id": "6BT2EV0FaCfY",
    "tags": []
   },
   "source": [
    "5.1 - The time has come. Pair up with a classmate and go head-to-head (just on `HitPoints`). Also compare some of the other attributes like `Defense` or `Attack` or `Speed`."
   ]
  },
  {
   "cell_type": "markdown",
   "metadata": {
    "cell_id": "00035-437121a8-1649-4ac3-a758-40337b1c4169",
    "deepnote_cell_height": 97.140625,
    "deepnote_cell_type": "markdown",
    "id": "MBEHPmlaaCfY",
    "tags": []
   },
   "source": [
    "5.2 - Try \"catching\" (or sampling) another random Pokémon. How well will this one do (in terms of `HitPoints`) against a classmate's randomly selected Pokémon? What information are you using to make your judgment?"
   ]
  },
  {
   "cell_type": "markdown",
   "metadata": {
    "cell_id": "4e3e6c78-0ccd-4a63-b33a-2bdf3d6e0cc7",
    "deepnote_cell_height": 119.53125,
    "deepnote_cell_type": "markdown",
    "id": "WLzwEk-CaCfY",
    "tags": []
   },
   "source": [
    "5.3 - Sometimes we care about individual battles and individual Pokémon. But in statistics, we care more about the whole distribution... so even if you can't predict one single battle well, you can predict 1000 battles pretty well. Take a moment to try and write down your own definition of \"distribution.\""
   ]
  }
 ],
 "metadata": {
  "colab": {
   "provenance": [
    {
     "file_id": "194IqBzVv4vmNyY-CHdeQNOO0_g2VvzEw",
     "timestamp": 1724452977485
    }
   ]
  },
  "deepnote": {},
  "deepnote_execution_queue": [],
  "deepnote_notebook_id": "c1ef500c-4af2-4284-8070-2bef51bc7a6b",
  "kernelspec": {
   "display_name": "R",
   "language": "R",
   "name": "ir"
  },
  "language_info": {
   "codemirror_mode": "r",
   "file_extension": ".r",
   "mimetype": "text/x-r-source",
   "name": "R",
   "pygments_lexer": "r",
   "version": "4.0.3"
  },
  "nbsimplegrader": {
   "publish_config": {
    "classes": [],
    "options": [],
    "tools": []
   }
  }
 },
 "nbformat": 4,
 "nbformat_minor": 0
}
