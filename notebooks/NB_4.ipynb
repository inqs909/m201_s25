{
 "cells": [
  {
   "cell_type": "markdown",
   "metadata": {
    "cell_id": "e167ba1c-9c1a-498f-9ba9-e6b543f9982a",
    "deepnote_cell_height": 133.953125,
    "deepnote_cell_type": "markdown",
    "id": "UXhdQ57tpNB4",
    "output_cleared": false
   },
   "source": [
    "# Notebook 4: Variation in Video Game \"Goodness\"\n",
    "\n",
    "*Modified from Coursekata*"
   ]
  },
  {
   "cell_type": "code",
   "execution_count": null,
   "metadata": {
    "cell_id": "5f42976d-4b1a-442e-876c-00dc3cd465f8",
    "colab": {
     "base_uri": "https://localhost:8080/"
    },
    "deepnote_cell_height": 129.953125,
    "deepnote_cell_type": "code",
    "deepnote_to_be_reexecuted": false,
    "executionInfo": {
     "elapsed": 61530,
     "status": "ok",
     "timestamp": 1726680822286,
     "user": {
      "displayName": "Isaac Quintanilla-Salinas",
      "userId": "11102198638348214323"
     },
     "user_tz": 420
    },
    "execution_millis": 4092,
    "execution_start": 1610215175500,
    "id": "u07cykBypNB7",
    "outputId": "ae858620-1877-42dd-9a14-592a4cb6ef0d",
    "output_cleared": false,
    "source_hash": "9d70ea66",
    "trusted": true
   },
   "outputs": [],
   "source": [
    "# This code will load the R packages we will use\n",
    "install.packages(c(\"csucistats\"),\n",
    "                 repos = c(\"https://inqs909.r-universe.dev\", \"https://cloud.r-project.org\"))\n",
    "library(csucistats)\n",
    "library(tidyverse)\n",
    "\n",
    "\n",
    "# Uncomment and run for categorical plots\n",
    "# csucistats::install_plots()\n",
    "# library(ggtricks)\n",
    "# library(ggmosaic)\n",
    "# library(waffle)\n",
    "\n",
    "# Uncomment and run for themes\n",
    "# csucistats::install_themes()\n",
    "# library(ThemePark)\n",
    "# library(ggthemes)\n",
    "\n"
   ]
  },
  {
   "cell_type": "markdown",
   "metadata": {
    "cell_id": "38f02a7c-f6ce-460b-b248-9dc8860444e9",
    "deepnote_cell_height": 69.96875,
    "deepnote_cell_type": "markdown",
    "id": "iyB5HdaMpNB8",
    "output_cleared": false
   },
   "source": [
    "## 1.0 - Thinking about the Question"
   ]
  },
  {
   "cell_type": "code",
   "execution_count": null,
   "metadata": {
    "cell_id": "0ebc3398-4133-4ad2-a514-80b231951265",
    "colab": {
     "base_uri": "https://localhost:8080/"
    },
    "deepnote_cell_height": 517.953125,
    "deepnote_cell_type": "code",
    "deepnote_to_be_reexecuted": false,
    "executionInfo": {
     "elapsed": 2401,
     "status": "ok",
     "timestamp": 1726550625673,
     "user": {
      "displayName": "Isaac Quintanilla-Salinas",
      "userId": "11102198638348214323"
     },
     "user_tz": 420
    },
    "execution_millis": 2453,
    "execution_start": 1610215179659,
    "id": "xyvrmqCfpNB9",
    "outputId": "46898f3a-f3a7-4846-9aa7-dbde8687a866",
    "output_cleared": false,
    "source_hash": "6defe716",
    "tags": [],
    "trusted": true
   },
   "outputs": [],
   "source": [
    "# Run this code to import the data frame\n",
    "\n",
    "gamesales_csv_link <- \"https://docs.google.com/spreadsheets/d/e/2PACX-1vRxgnDw4jgU7XkqCp6iZHsBsOe7JQbAjsjJePsoKpllu_KntXdXp1wbY2PocCzdiFOQZ7Bq8IrgLpXz/pub?gid=487723921&single=true&output=csv\"\n",
    "gamesales <- read_csv(gamesales_csv_link)\n"
   ]
  },
  {
   "cell_type": "markdown",
   "metadata": {
    "id": "KPlro64UbzC4"
   },
   "source": [
    "1.1 - Describe what is going on in the lines above."
   ]
  },
  {
   "cell_type": "markdown",
   "metadata": {
    "cell_id": "ccee63e2-ed08-4c26-a7ba-28574ba2c6e9",
    "deepnote_cell_height": 74.75,
    "deepnote_cell_type": "markdown",
    "id": "PY_A0S1IpNB8",
    "output_cleared": false
   },
   "source": [
    "1.2 - Any gamer will tell you there is a lot of variation in how \"good\" a game is. What are some ways we could measure how “good” a game is?"
   ]
  },
  {
   "cell_type": "markdown",
   "metadata": {
    "cell_id": "f5b1acb0-c4c3-4637-87de-8574a2e564d1",
    "deepnote_cell_height": 517,
    "deepnote_cell_type": "markdown",
    "id": "G9KgzOyxpNB9",
    "output_cleared": false
   },
   "source": [
    "1.3 - Try using functions such as `head()` to take a look at the following data set (called `gamesales`). (You can also try `str()` or `glimpse()` to look at the data frame a little differently.)\n",
    "\n",
    "The data frame `gamesales` contains 17416 rows describing games with the following variables:\n",
    "- `Name` - The video game's name\n",
    "- `Platform` - Platform of the games release\n",
    "- `Year_of_Release` - Year of the game's release\n",
    "- `Genre` - Genre of the game\n",
    "- `Publisher` - Publisher of the game\n",
    "- `NA_Sales` - Sales in North America (in millions)\n",
    "- `EU_Sales` - Sales in Europe (in millions)\n",
    "- `JP_Sales` - Sales in Japan (in millions)\n",
    "- `Other_Sales` - Sales in the rest of the world (in millions)\n",
    "- `Global_Sales` - Total worldwide sales (in millions)\n",
    "- `Critic_Score` - Aggregate score compiled by Metacritic staff\n",
    "- `Critic_Count` - The number of critics used in coming up with the critic score\n",
    "- `User_Score` - Score by Metacritic's subscribers\n",
    "- `User_Count` - Number of users who gave the user score\n",
    "- `Rating` - The ESRB ratings (Entertainment Software Rating Board)"
   ]
  },
  {
   "cell_type": "markdown",
   "metadata": {
    "cell_id": "00006-92532338-79aa-49a6-b88f-26ddafe046c8",
    "deepnote_cell_height": 74.75,
    "deepnote_cell_type": "markdown",
    "id": "N16rpl12pNB-",
    "output_cleared": false,
    "tags": []
   },
   "source": [
    "1.4 - Which of the variables in `gamesales` might be a good way to measure how “good” a game is? What are the pros and cons of using that measure of “goodness”?"
   ]
  },
  {
   "cell_type": "markdown",
   "metadata": {
    "cell_id": "7b65c2d5-f4a7-481d-872a-8a204392dae1",
    "deepnote_cell_height": 69.96875,
    "deepnote_cell_type": "markdown",
    "id": "bzby2VHhpNB-",
    "output_cleared": false
   },
   "source": [
    "## 2.0 - How Critics Rate Video Games"
   ]
  },
  {
   "cell_type": "markdown",
   "metadata": {
    "cell_id": "890c467f-f3ef-46bb-9759-5dee3b7a96a7",
    "deepnote_cell_height": 97.140625,
    "deepnote_cell_type": "markdown",
    "id": "BwewYvy9pNB-",
    "output_cleared": false
   },
   "source": [
    "2.1 - There are many ways to measure a game's goodness (even ways that are not included in this data set!), but let's start by exploring variation in critics’ ratings of games, `Critic_Score`. Create a histogram that would help us do this."
   ]
  },
  {
   "cell_type": "markdown",
   "metadata": {
    "cell_id": "7488160a-1b78-4796-a5e2-a4bdbfb6165d",
    "deepnote_cell_height": 74.75,
    "deepnote_cell_type": "markdown",
    "id": "7H0XeQyrpNB_",
    "output_cleared": false
   },
   "source": [
    "2.2 - Find one of the tallest bars and one of the lowest bars in the histogram. What does it mean for a bar to be really low, or really tall in this histogram?"
   ]
  },
  {
   "cell_type": "markdown",
   "metadata": {
    "cell_id": "8b7bdd16-88a9-48c6-86b5-b97b3bb159bf",
    "deepnote_cell_height": 74.75,
    "deepnote_cell_type": "markdown",
    "id": "TvWuAAvwpNB_",
    "output_cleared": false
   },
   "source": [
    "2.3 - What would you guess is the scale used for rating the games (i.e., the range of possible ratings)?"
   ]
  },
  {
   "cell_type": "markdown",
   "metadata": {
    "cell_id": "a12ad1be-5d8e-40db-95b3-ac4f89cd66a7",
    "deepnote_cell_height": 114.75,
    "deepnote_cell_type": "markdown",
    "id": "aC-XLTj9pNB_",
    "output_cleared": false
   },
   "source": [
    "2.4 - If we made a boxplot of the same data, which of the following would it look like (left, center, or right)?\n",
    "<img src = \"https://i.postimg.cc/GbQcdYqn/3-B-3-boxplots.png\" title = \"Left boxplot looks even, center boxplot has a low tail, right boxplot has high tail\">"
   ]
  },
  {
   "cell_type": "markdown",
   "metadata": {
    "cell_id": "faa13889-bd0f-4073-8640-ab3ab2b8800b",
    "deepnote_cell_height": 52.359375,
    "deepnote_cell_type": "markdown",
    "id": "oUXP363BpNB_",
    "output_cleared": false
   },
   "source": [
    "2.5 - Try making a boxplot. Which one did it look like? Why does it look like that?"
   ]
  },
  {
   "cell_type": "markdown",
   "metadata": {
    "cell_id": "efaed929-19f9-44f8-b1a4-bb87c5bf9351",
    "deepnote_cell_type": "markdown",
    "id": "43X3IEQUpNB_",
    "output_cleared": false
   },
   "source": [
    "2.6 - How would you describe this distribution of critics’ scores? What have we learned about critics’ scores by looking at this distribution?"
   ]
  },
  {
   "cell_type": "markdown",
   "metadata": {
    "id": "Zd54sQIRZIhE"
   },
   "source": [
    "2.7 - What are the numerical statistics from the critic's scores? Do the numerical statistics correspond with the distribution?|"
   ]
  },
  {
   "cell_type": "markdown",
   "metadata": {
    "cell_id": "eed57345-8bf3-4262-bbca-95840bd6713e",
    "deepnote_cell_type": "markdown",
    "id": "Iug3LIoBpNB_",
    "output_cleared": false
   },
   "source": [
    "## 3.0 - How Users Rate Video Games"
   ]
  },
  {
   "cell_type": "markdown",
   "metadata": {
    "cell_id": "40ae4bc7-03c9-48f2-b705-8e9a7cfb9c52",
    "deepnote_cell_type": "markdown",
    "id": "ZwHwpzBapNB_",
    "output_cleared": false
   },
   "source": [
    "3.1 - That’s just critic ratings; how about user ratings? Will they also be skewed? Will their pattern of variation look different from critics? Why or why not?"
   ]
  },
  {
   "cell_type": "markdown",
   "metadata": {
    "cell_id": "03d28324-f57d-40f8-94d5-04d1ad724889",
    "deepnote_cell_type": "markdown",
    "id": "JlKFFl5_pNB_",
    "output_cleared": false
   },
   "source": [
    "3.2 - Let’s take a look at the total variation in `User_Score`. Is the distribution shaped like the critics’ scores?"
   ]
  },
  {
   "cell_type": "markdown",
   "metadata": {
    "id": "Wux_oe9ZaC84"
   },
   "source": [
    "3.3 - What are the numerical statistics for `User_Score`? Do the statistics agree with the distribution?"
   ]
  },
  {
   "cell_type": "markdown",
   "metadata": {
    "cell_id": "b0d1de76-a3f2-41dc-9036-54c3662699d0",
    "deepnote_cell_type": "markdown",
    "id": "35iRZG-ppNB_",
    "output_cleared": false
   },
   "source": [
    "## 4.0 - Cleaning the Data"
   ]
  },
  {
   "cell_type": "markdown",
   "metadata": {
    "cell_id": "b2e76821-095c-44a7-bd87-08babe9a0e58",
    "deepnote_cell_type": "markdown",
    "id": "sLDQkKxrpNB_",
    "output_cleared": false
   },
   "source": [
    "4.1 - Notice that we got a warning message here like we did when we tried to visualize `Critic_Score`. But this time the number is different. What does this mean? How should we handle this?"
   ]
  },
  {
   "cell_type": "markdown",
   "metadata": {
    "cell_id": "fb462060-5835-481c-b9e5-5bed7083adaa",
    "deepnote_cell_type": "markdown",
    "id": "XOw_Z7mVpNB_",
    "output_cleared": false
   },
   "source": [
    "4.2 - We want to teach you a new function called `drop_na()`. This function takes in a data frame and then spits it out without any games that have an ‘NA’ in it. Try running the following code."
   ]
  },
  {
   "cell_type": "code",
   "execution_count": null,
   "metadata": {
    "cell_id": "4bfffc50-22b2-4b42-b443-44386067e753",
    "deepnote_cell_type": "code",
    "deepnote_to_be_reexecuted": false,
    "execution_millis": 45,
    "execution_start": 1610215182123,
    "id": "6aLCaHFwpNCA",
    "output_cleared": false,
    "source_hash": "9f65cd3",
    "trusted": true
   },
   "outputs": [],
   "source": [
    "games2 <- drop_na(gamesales)"
   ]
  },
  {
   "cell_type": "markdown",
   "metadata": {
    "cell_id": "80e6a07a-6b24-4345-88f8-07469ceefcd2",
    "deepnote_cell_type": "markdown",
    "id": "Cm1cb8UkpNCA",
    "output_cleared": false
   },
   "source": [
    "4.3 - Compare `games2` to `gamesales`. What’s different about it? What are the pros and cons of using `games2` (rather than `gamesales`) to look at the distribution of user ratings or critics scores?"
   ]
  },
  {
   "cell_type": "markdown",
   "metadata": {
    "cell_id": "4adeb7d1-0086-41f0-8462-44727743a6ff",
    "deepnote_cell_type": "markdown",
    "id": "KdKknz5xpNCA",
    "output_cleared": false,
    "tags": []
   },
   "source": [
    "4.4 - Now if we run this code to make histograms (same as before), do you think we will get any error messages? Why or why not?"
   ]
  },
  {
   "cell_type": "code",
   "execution_count": null,
   "metadata": {
    "cell_id": "1a066f5b-f071-4e55-90e9-b64d5e81749b",
    "colab": {
     "base_uri": "https://localhost:8080/",
     "height": 892
    },
    "deepnote_cell_type": "code",
    "deepnote_to_be_reexecuted": false,
    "executionInfo": {
     "elapsed": 665,
     "status": "ok",
     "timestamp": 1726470731196,
     "user": {
      "displayName": "Isaac Quintanilla-Salinas",
      "userId": "11102198638348214323"
     },
     "user_tz": 420
    },
    "execution_millis": 660,
    "execution_start": 1610215188861,
    "id": "8n9ljKz9pNCA",
    "outputId": "930c3b83-3da2-426a-e98b-c88b55f4b5d4",
    "output_cleared": false,
    "source_hash": "c3d483cb",
    "trusted": true
   },
   "outputs": [],
   "source": [
    "ggplot(games2, aes(Critic_Score)) +\n",
    "  geom_histogram(fill = \"orange\", color = \"black\")\n",
    "\n",
    "ggplot(games2, aes(User_Score)) +\n",
    "  geom_histogram(fill = \"blue\", color = \"red\")\n"
   ]
  },
  {
   "cell_type": "markdown",
   "metadata": {
    "cell_id": "d2f39257-1c4f-499c-9cd9-8afb31f04806",
    "deepnote_cell_type": "markdown",
    "id": "pPJVdxFjpNCA",
    "output_cleared": false
   },
   "source": [
    "## 5.0 - Critic Ratings versus User Ratings"
   ]
  },
  {
   "cell_type": "markdown",
   "metadata": {
    "cell_id": "f03254ed-85fb-422d-ba57-f4b62422cd3b",
    "deepnote_cell_type": "markdown",
    "id": "LwTcka3SpNCA",
    "output_cleared": false
   },
   "source": [
    "5.1 - Compare the distribution of `User_Score` to `Critic_Score`. What’s similar? What’s different? Is there anything we can do to the scores to make these two distributions easier to compare?"
   ]
  },
  {
   "cell_type": "markdown",
   "metadata": {
    "cell_id": "73092149-6082-4d17-84ed-bed4050d6ade",
    "deepnote_cell_type": "markdown",
    "id": "Q0DRV6dTpNCA",
    "output_cleared": false
   },
   "source": [
    "5.2 - From looking at these distributions, do you think users and critics are similar in the way they actually judge the “goodness” of games? Different? What are your theories about the Data Generating Process that makes the data look this way?"
   ]
  },
  {
   "cell_type": "markdown",
   "metadata": {
    "id": "qHUcHQsQaZ5c"
   },
   "source": [
    "5.3 - Construct a scatter plot between `User_Score` and `Critic_Score`."
   ]
  },
  {
   "cell_type": "markdown",
   "metadata": {
    "id": "hq0aTY6halFj"
   },
   "source": [
    "5.4 - Describe the relationship between `User_Score` and `Critic_Score`."
   ]
  },
  {
   "cell_type": "markdown",
   "metadata": {
    "id": "EsfJlKnEZs8H"
   },
   "source": [
    "## Submitting Labs\n",
    "\n",
    "Submit your notebook on Canvas."
   ]
  }
 ],
 "metadata": {
  "celltoolbar": "nbsimplegrader",
  "colab": {
   "provenance": [
    {
     "file_id": "1ZeqeudDN8EUa7erB-iFvvREmLIV8MqVN",
     "timestamp": 1726470223770
    }
   ]
  },
  "deepnote": {},
  "deepnote_execution_queue": [],
  "deepnote_notebook_id": "66e4a228-7f5c-4a5f-adf2-ef5bdb093f61",
  "kernelspec": {
   "display_name": "R",
   "name": "ir"
  },
  "language_info": {
   "name": "r"
  },
  "nbsimplegrader": {
   "publish_config": {
    "classes": [],
    "options": [],
    "tools": []
   }
  }
 },
 "nbformat": 4,
 "nbformat_minor": 0
}
